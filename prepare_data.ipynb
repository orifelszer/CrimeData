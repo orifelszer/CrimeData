{
  "nbformat": 4,
  "nbformat_minor": 0,
  "metadata": {
    "colab": {

    },
    "kernelspec": {
      "name": "python3",
      "display_name": "Python 3"
    },
    "language_info": {
      "name": "python"
    }
  },
  "cells": [
    {

      "cell_type": "code",
      "source": [
        "#Importing necessary libraries for data preprocessing\n",
        "import pandas as pd\n",
        "import numpy as np\n",

      ],
      "metadata": {
        "id": "BwDL4tPUEN-m"
      },
      "execution_count": null,

      "outputs": []
    }
  ]
}