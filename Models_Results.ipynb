{
  "nbformat": 4,
  "nbformat_minor": 0,
  "metadata": {
    "colab": {
      "provenance": [],
      "authorship_tag": "ABX9TyMAtLeuaUL8XBzVLJwwIPxk",
      "include_colab_link": true
    },
    "kernelspec": {
      "name": "python3",
      "display_name": "Python 3"
    },
    "language_info": {
      "name": "python"
    }
  },
  "cells": [
    {
      "cell_type": "markdown",
      "metadata": {
        "id": "view-in-github",
        "colab_type": "text"
      },
      "source": [
        "<a href=\"https://colab.research.google.com/github/orifelszer/CrimeData/blob/oriana-branch/Models_Results.ipynb\" target=\"_parent\"><img src=\"https://colab.research.google.com/assets/colab-badge.svg\" alt=\"Open In Colab\"/></a>"
      ]
    },
    {
      "cell_type": "markdown",
      "source": [
        "In this notebook, we pretend to show you the results,  both supervised and unsupervised models."
      ],
      "metadata": {
        "id": "c5ZdJRsT2aBh"
      }
    },
    {
      "cell_type": "markdown",
      "source": [
        "# **Supervised Models**"
      ],
      "metadata": {
        "id": "b3qbT1y62kMI"
      }
    },
    {
      "cell_type": "code",
      "execution_count": 11,
      "metadata": {
        "cellView": "form",
        "id": "SpRJxuip1ToO"
      },
      "outputs": [],
      "source": [
        "# @title\n",
        "import pandas as pd\n",
        "from IPython.display import HTML\n"
      ]
    },
    {
      "cell_type": "code",
      "source": [
        "# @title\n",
        "# Data for the table\n",
        "data = {\n",
        "    \"Model\": [\"LGBM\", \"Random Forest\", \"Decision Tree\"],\n",
        "    \"Accuracy (%)\": [11.62, 4.74, 35.97],\n",
        "    \"Precision (%)\": [30.19, 9.00, 13.00],\n",
        "    \"Recall (%)\": [11.62, 11.00, 9.00],\n",
        "    \"F1 Score (%)\": [13.67, 4.00, 9.00]\n",
        "}\n",
        "\n",
        "#WE NEED TO ADD OR UPDATE THE RESULTS IF WE CAN MAKE THEM BETTER\n",
        "\n",
        "# Create a DataFrame\n",
        "comparison_df = pd.DataFrame(data)\n",
        "\n",
        "# Display the DataFrame\n",
        "\n",
        "HTML(comparison_df.to_html(index=False))"
      ],
      "metadata": {
        "colab": {
          "base_uri": "https://localhost:8080/",
          "height": 143
        },
        "cellView": "form",
        "id": "aMLj_-hk3yr8",
        "outputId": "0915cc17-fbd1-470f-db82-b76aeb2444e5"
      },
      "execution_count": 10,
      "outputs": [
        {
          "output_type": "execute_result",
          "data": {
            "text/plain": [
              "<IPython.core.display.HTML object>"
            ],
            "text/html": [
              "<table border=\"1\" class=\"dataframe\">\n",
              "  <thead>\n",
              "    <tr style=\"text-align: right;\">\n",
              "      <th>Model</th>\n",
              "      <th>Accuracy (%)</th>\n",
              "      <th>Precision (%)</th>\n",
              "      <th>Recall (%)</th>\n",
              "      <th>F1 Score (%)</th>\n",
              "    </tr>\n",
              "  </thead>\n",
              "  <tbody>\n",
              "    <tr>\n",
              "      <td>LGBM</td>\n",
              "      <td>11.62</td>\n",
              "      <td>30.19</td>\n",
              "      <td>11.62</td>\n",
              "      <td>13.67</td>\n",
              "    </tr>\n",
              "    <tr>\n",
              "      <td>Random Forest</td>\n",
              "      <td>4.74</td>\n",
              "      <td>9.00</td>\n",
              "      <td>11.00</td>\n",
              "      <td>4.00</td>\n",
              "    </tr>\n",
              "    <tr>\n",
              "      <td>Decision Tree</td>\n",
              "      <td>35.97</td>\n",
              "      <td>13.00</td>\n",
              "      <td>9.00</td>\n",
              "      <td>9.00</td>\n",
              "    </tr>\n",
              "  </tbody>\n",
              "</table>"
            ]
          },
          "metadata": {},
          "execution_count": 10
        }
      ]
    },
    {
      "cell_type": "markdown",
      "source": [
        "Here we will add a conclusion"
      ],
      "metadata": {
        "id": "NWu0KDLO423i"
      }
    },
    {
      "cell_type": "markdown",
      "source": [
        "#**Unsupervised Models**"
      ],
      "metadata": {
        "id": "1y_x7FIm46OR"
      }
    }
  ]
}