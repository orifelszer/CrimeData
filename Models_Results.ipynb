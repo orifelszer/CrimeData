{
  "nbformat": 4,
  "nbformat_minor": 0,
  "metadata": {
    "colab": {
      "provenance": [],
      "authorship_tag": "ABX9TyNcb+CNzTmPS6Se8rUBvfCA",
      "include_colab_link": true
    },
    "kernelspec": {
      "name": "python3",
      "display_name": "Python 3"
    },
    "language_info": {
      "name": "python"
    }
  },
  "cells": [
    {
      "cell_type": "markdown",
      "metadata": {
        "id": "view-in-github",
        "colab_type": "text"
      },
      "source": [
        "<a href=\"https://colab.research.google.com/github/orifelszer/CrimeData/blob/main/Models_Results.ipynb\" target=\"_parent\"><img src=\"https://colab.research.google.com/assets/colab-badge.svg\" alt=\"Open In Colab\"/></a>"
      ]
    },
    {
      "cell_type": "markdown",
      "source": [
        "In this notebook, we pretend to show you the results,  both supervised and unsupervised models."
      ],
      "metadata": {
        "id": "c5ZdJRsT2aBh"
      }
    },
    {
      "cell_type": "markdown",
      "source": [
        "##Supervised Models##"
      ],
      "metadata": {
        "id": "b3qbT1y62kMI"
      }
    },
    {
      "cell_type": "code",
      "execution_count": 1,
      "metadata": {
        "colab": {
          "base_uri": "https://localhost:8080/"
        },
        "id": "SpRJxuip1ToO",
        "outputId": "3c6b06ea-f4e7-48e4-8fbe-31801d64b858"
      },
      "outputs": [
        {
          "output_type": "stream",
          "name": "stdout",
          "text": [
            "           Model  Accuracy (%)  Precision (%)  Recall (%)  F1 Score (%)\n",
            "0           LGBM         11.62          30.19       11.62         13.67\n",
            "1  Random Forest          4.74           9.00       11.00          4.00\n",
            "2  Decision Tree         35.97          13.00        9.00          9.00\n"
          ]
        }
      ],
      "source": [
        "import pandas as pd\n",
        "\n",
        "# Data for the table\n",
        "data = {\n",
        "    \"Model\": [\"LGBM\", \"Random Forest\", \"Decision Tree\"],\n",
        "    \"Accuracy (%)\": [11.62, 4.74, 35.97],\n",
        "    \"Precision (%)\": [30.19, 9.00, 13.00],\n",
        "    \"Recall (%)\": [11.62, 11.00, 9.00],\n",
        "    \"F1 Score (%)\": [13.67, 4.00, 9.00]\n",
        "}\n",
        "\n",
        "#WE NEED TO ADD OR UPDATE THE RESULTS IF WE CAN MAKE THEM BETTER\n",
        "\n",
        "# Create a DataFrame\n",
        "comparison_df = pd.DataFrame(data)\n",
        "\n",
        "# Display the DataFrame\n",
        "print(comparison_df)\n"
      ]
    }
  ]
}