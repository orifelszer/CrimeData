{
  "nbformat": 4,
  "nbformat_minor": 0,
  "metadata": {
    "colab": {
      "provenance": [],
      "include_colab_link": true
    },
    "kernelspec": {
      "name": "python3",
      "display_name": "Python 3"
    },
    "language_info": {
      "name": "python"
    }
  },
  "cells": [
    {
      "cell_type": "markdown",
      "metadata": {
        "id": "view-in-github",
        "colab_type": "text"
      },
      "source": [
        "<a href=\"https://colab.research.google.com/github/orifelszer/CrimeData/blob/main/DNN.ipynb\" target=\"_parent\"><img src=\"https://colab.research.google.com/assets/colab-badge.svg\" alt=\"Open In Colab\"/></a>"
      ]
    },
    {
      "cell_type": "markdown",
      "source": [
        "Importing Required Libraries"
      ],
      "metadata": {
        "id": "XMJeZ8Zsyacx"
      }
    },
    {
      "cell_type": "code",
      "execution_count": 1,
      "metadata": {
        "id": "EDnGrL94AwiB"
      },
      "outputs": [],
      "source": [
        "import numpy as np\n",
        "import pandas as pd\n",
        "import seaborn as sns\n",
        "import tensorflow as tf\n",
        "import matplotlib.pyplot as plt\n",
        "from tensorflow import keras\n",
        "from tensorflow.keras import layers\n",
        "from tensorflow.keras.models import Model, Sequential\n",
        "from tensorflow.keras.optimizers import Adam\n",
        "from tensorflow.keras.regularizers import l2\n",
        "from sklearn.preprocessing import LabelEncoder\n",
        "from sklearn.model_selection import train_test_split\n",
        "from sklearn.utils.class_weight import compute_class_weight\n",
        "from tensorflow.keras.callbacks import EarlyStopping, ReduceLROnPlateau\n",
        "from tensorflow.keras.layers import Dense, Dropout, BatchNormalization, LeakyReLU\n",
        "from sklearn.metrics import accuracy_score, precision_score, recall_score, f1_score, confusion_matrix"
      ]
    },
    {
      "cell_type": "markdown",
      "source": [
        "Loading Supervised Datasets from GitHub Repository"
      ],
      "metadata": {
        "id": "JzSTVZDFyb8f"
      }
    },
    {
      "cell_type": "code",
      "source": [
        "import zipfile\n",
        "import requests\n",
        "from io import BytesIO\n",
        "\n",
        "# Define the base URL of the repository and dataset file names\n",
        "base_url = \"https://github.com/orifelszer/CrimeData/raw/main/\"\n",
        "files = {\n",
        "    \"X_train\": \"X_train_supervised.zip\",\n",
        "    \"X_test\": \"X_test_supervised.zip\",\n",
        "    \"y_train\": \"y_train_supervised.zip\",\n",
        "    \"y_test\": \"y_test_supervised.zip\"}\n",
        "\n",
        "# Function to download and extract ZIP files from the GitHub repository\n",
        "def load_data_from_repo(file_name):\n",
        "    url = base_url + file_name\n",
        "    response = requests.get(url)\n",
        "    if response.status_code == 200:\n",
        "        with zipfile.ZipFile(BytesIO(response.content)) as z:\n",
        "            extracted_file_name = z.namelist()[0]\n",
        "            with z.open(extracted_file_name) as f:\n",
        "                return pd.read_csv(f)\n",
        "    else:\n",
        "        raise Exception(f\"Failed to download {file_name}\")\n",
        "\n",
        "# Load datasets from the repository\n",
        "X_train = pd.DataFrame(load_data_from_repo(files[\"X_train\"]))\n",
        "X_test = pd.DataFrame(load_data_from_repo(files[\"X_test\"]))\n",
        "y_train = pd.DataFrame(load_data_from_repo(files[\"y_train\"]))\n",
        "y_test = pd.DataFrame(load_data_from_repo(files[\"y_test\"]))"
      ],
      "metadata": {
        "id": "S6e6MzK3Az3S"
      },
      "execution_count": 12,
      "outputs": []
    },
    {
      "cell_type": "markdown",
      "source": [
        "Building and Training a Neural Network with Early Stopping and Learning Rate Reduction"
      ],
      "metadata": {
        "id": "97g-JD_u73pQ"
      }
    },
    {
      "cell_type": "code",
      "source": [
        "# Define early stopping and learning rate reduction callbacks\n",
        "early_stopping = EarlyStopping(monitor='val_loss', patience=10, restore_best_weights=True)\n",
        "reduce_lr = ReduceLROnPlateau(monitor='val_loss', factor=0.5, patience=3, min_lr=1e-6)\n",
        "\n",
        "# Build the neural network model\n",
        "model = Sequential()\n",
        "\n",
        "# Input layer with L2 regularization, LeakyReLU activation, and dropout\n",
        "model.add(Dense(512, kernel_regularizer=l2(0.01), input_shape=(X_train.shape[1],)))\n",
        "model.add(LeakyReLU(alpha=0.01))\n",
        "model.add(BatchNormalization())\n",
        "model.add(Dropout(0.3))\n",
        "\n",
        "# Hidden layer 1\n",
        "model.add(Dense(256, kernel_regularizer=l2(0.01)))\n",
        "model.add(LeakyReLU(alpha=0.01))\n",
        "model.add(BatchNormalization())\n",
        "model.add(Dropout(0.3))\n",
        "\n",
        "# Hidden layer 2\n",
        "model.add(Dense(128, kernel_regularizer=l2(0.01)))\n",
        "model.add(LeakyReLU(alpha=0.01))\n",
        "model.add(BatchNormalization())\n",
        "model.add(Dropout(0.3))\n",
        "\n",
        "# Output layer with softmax activation for multi-class classification\n",
        "model.add(Dense(y_train['target'].nunique(), activation='softmax'))\n",
        "\n",
        "# Compile the model with Adam optimizer and sparse categorical cross-entropy\n",
        "model.compile(optimizer=Adam(learning_rate=0.001),\n",
        "              loss='sparse_categorical_crossentropy',\n",
        "              metrics=['accuracy'])\n",
        "\n",
        "# Train the model with early stopping and learning rate reduction\n",
        "history = model.fit(X_train, y_train['target'],\n",
        "                    epochs=50, batch_size=512,\n",
        "                    validation_split=0.2,\n",
        "                    callbacks=[early_stopping, reduce_lr])"
      ],
      "metadata": {
        "id": "0BRwiAJXlma7",
        "colab": {
          "base_uri": "https://localhost:8080/"
        },
        "outputId": "ef9b1a80-b1d9-43e5-cb38-4c5d8c4208cf"
      },
      "execution_count": 14,
      "outputs": [
        {
          "metadata": {
            "tags": null
          },
          "name": "stderr",
          "output_type": "stream",
          "text": [
            "/usr/local/lib/python3.10/dist-packages/keras/src/layers/core/dense.py:87: UserWarning: Do not pass an `input_shape`/`input_dim` argument to a layer. When using Sequential models, prefer using an `Input(shape)` object as the first layer in the model instead.\n",
            "  super().__init__(activity_regularizer=activity_regularizer, **kwargs)\n",
            "/usr/local/lib/python3.10/dist-packages/keras/src/layers/activations/leaky_relu.py:41: UserWarning: Argument `alpha` is deprecated. Use `negative_slope` instead.\n",
            "  warnings.warn(\n"
          ]
        },
        {
          "output_type": "stream",
          "name": "stdout",
          "text": [
            "Epoch 1/50\n",
            "\u001b[1m1643/1643\u001b[0m \u001b[32m━━━━━━━━━━━━━━━━━━━━\u001b[0m\u001b[37m\u001b[0m \u001b[1m62s\u001b[0m 35ms/step - accuracy: 0.3124 - loss: 2.9450 - val_accuracy: 0.3162 - val_loss: 1.6558 - learning_rate: 0.0010\n",
            "Epoch 2/50\n",
            "\u001b[1m1643/1643\u001b[0m \u001b[32m━━━━━━━━━━━━━━━━━━━━\u001b[0m\u001b[37m\u001b[0m \u001b[1m88s\u001b[0m 39ms/step - accuracy: 0.3741 - loss: 1.6101 - val_accuracy: 0.3935 - val_loss: 1.8261 - learning_rate: 0.0010\n",
            "Epoch 3/50\n",
            "\u001b[1m1643/1643\u001b[0m \u001b[32m━━━━━━━━━━━━━━━━━━━━\u001b[0m\u001b[37m\u001b[0m \u001b[1m74s\u001b[0m 45ms/step - accuracy: 0.3753 - loss: 1.5970 - val_accuracy: 0.3935 - val_loss: 14.1234 - learning_rate: 0.0010\n",
            "Epoch 4/50\n",
            "\u001b[1m1643/1643\u001b[0m \u001b[32m━━━━━━━━━━━━━━━━━━━━\u001b[0m\u001b[37m\u001b[0m \u001b[1m76s\u001b[0m 41ms/step - accuracy: 0.3756 - loss: 1.5903 - val_accuracy: 0.0211 - val_loss: 11.2020 - learning_rate: 0.0010\n",
            "Epoch 5/50\n",
            "\u001b[1m1643/1643\u001b[0m \u001b[32m━━━━━━━━━━━━━━━━━━━━\u001b[0m\u001b[37m\u001b[0m \u001b[1m80s\u001b[0m 41ms/step - accuracy: 0.3798 - loss: 1.5697 - val_accuracy: 0.3935 - val_loss: 2.0086 - learning_rate: 5.0000e-04\n",
            "Epoch 6/50\n",
            "\u001b[1m1643/1643\u001b[0m \u001b[32m━━━━━━━━━━━━━━━━━━━━\u001b[0m\u001b[37m\u001b[0m \u001b[1m73s\u001b[0m 35ms/step - accuracy: 0.3800 - loss: 1.5679 - val_accuracy: 0.3935 - val_loss: 4.3584 - learning_rate: 5.0000e-04\n",
            "Epoch 7/50\n",
            "\u001b[1m1643/1643\u001b[0m \u001b[32m━━━━━━━━━━━━━━━━━━━━\u001b[0m\u001b[37m\u001b[0m \u001b[1m81s\u001b[0m 34ms/step - accuracy: 0.3824 - loss: 1.5627 - val_accuracy: 0.3912 - val_loss: 3.0097 - learning_rate: 5.0000e-04\n",
            "Epoch 8/50\n",
            "\u001b[1m1643/1643\u001b[0m \u001b[32m━━━━━━━━━━━━━━━━━━━━\u001b[0m\u001b[37m\u001b[0m \u001b[1m84s\u001b[0m 35ms/step - accuracy: 0.3834 - loss: 1.5532 - val_accuracy: 0.3540 - val_loss: 1.7516 - learning_rate: 2.5000e-04\n",
            "Epoch 9/50\n",
            "\u001b[1m1643/1643\u001b[0m \u001b[32m━━━━━━━━━━━━━━━━━━━━\u001b[0m\u001b[37m\u001b[0m \u001b[1m94s\u001b[0m 42ms/step - accuracy: 0.3842 - loss: 1.5499 - val_accuracy: 0.0229 - val_loss: 7.1293 - learning_rate: 2.5000e-04\n",
            "Epoch 10/50\n",
            "\u001b[1m1643/1643\u001b[0m \u001b[32m━━━━━━━━━━━━━━━━━━━━\u001b[0m\u001b[37m\u001b[0m \u001b[1m64s\u001b[0m 39ms/step - accuracy: 0.3831 - loss: 1.5559 - val_accuracy: 0.3935 - val_loss: 2.2016 - learning_rate: 2.5000e-04\n",
            "Epoch 11/50\n",
            "\u001b[1m1643/1643\u001b[0m \u001b[32m━━━━━━━━━━━━━━━━━━━━\u001b[0m\u001b[37m\u001b[0m \u001b[1m63s\u001b[0m 38ms/step - accuracy: 0.3894 - loss: 1.5417 - val_accuracy: 0.3983 - val_loss: 1.5878 - learning_rate: 1.2500e-04\n",
            "Epoch 12/50\n",
            "\u001b[1m1643/1643\u001b[0m \u001b[32m━━━━━━━━━━━━━━━━━━━━\u001b[0m\u001b[37m\u001b[0m \u001b[1m75s\u001b[0m 34ms/step - accuracy: 0.3900 - loss: 1.5386 - val_accuracy: 0.0232 - val_loss: 7.8176 - learning_rate: 1.2500e-04\n",
            "Epoch 13/50\n",
            "\u001b[1m1643/1643\u001b[0m \u001b[32m━━━━━━━━━━━━━━━━━━━━\u001b[0m\u001b[37m\u001b[0m \u001b[1m57s\u001b[0m 34ms/step - accuracy: 0.3918 - loss: 1.5357 - val_accuracy: 0.3935 - val_loss: 1.6865 - learning_rate: 1.2500e-04\n",
            "Epoch 14/50\n",
            "\u001b[1m1643/1643\u001b[0m \u001b[32m━━━━━━━━━━━━━━━━━━━━\u001b[0m\u001b[37m\u001b[0m \u001b[1m83s\u001b[0m 35ms/step - accuracy: 0.3943 - loss: 1.5332 - val_accuracy: 0.0192 - val_loss: 3.8672 - learning_rate: 1.2500e-04\n",
            "Epoch 15/50\n",
            "\u001b[1m1643/1643\u001b[0m \u001b[32m━━━━━━━━━━━━━━━━━━━━\u001b[0m\u001b[37m\u001b[0m \u001b[1m80s\u001b[0m 34ms/step - accuracy: 0.3955 - loss: 1.5301 - val_accuracy: 0.4006 - val_loss: 1.5796 - learning_rate: 6.2500e-05\n",
            "Epoch 16/50\n",
            "\u001b[1m1643/1643\u001b[0m \u001b[32m━━━━━━━━━━━━━━━━━━━━\u001b[0m\u001b[37m\u001b[0m \u001b[1m81s\u001b[0m 33ms/step - accuracy: 0.3956 - loss: 1.5276 - val_accuracy: 0.0229 - val_loss: 3.2282 - learning_rate: 6.2500e-05\n",
            "Epoch 17/50\n",
            "\u001b[1m1643/1643\u001b[0m \u001b[32m━━━━━━━━━━━━━━━━━━━━\u001b[0m\u001b[37m\u001b[0m \u001b[1m84s\u001b[0m 35ms/step - accuracy: 0.3955 - loss: 1.5291 - val_accuracy: 0.2498 - val_loss: 1.8654 - learning_rate: 6.2500e-05\n",
            "Epoch 18/50\n",
            "\u001b[1m1643/1643\u001b[0m \u001b[32m━━━━━━━━━━━━━━━━━━━━\u001b[0m\u001b[37m\u001b[0m \u001b[1m79s\u001b[0m 33ms/step - accuracy: 0.3956 - loss: 1.5285 - val_accuracy: 0.0184 - val_loss: 6.5551 - learning_rate: 6.2500e-05\n",
            "Epoch 19/50\n",
            "\u001b[1m1643/1643\u001b[0m \u001b[32m━━━━━━━━━━━━━━━━━━━━\u001b[0m\u001b[37m\u001b[0m \u001b[1m57s\u001b[0m 35ms/step - accuracy: 0.3968 - loss: 1.5259 - val_accuracy: 0.4031 - val_loss: 1.5142 - learning_rate: 3.1250e-05\n",
            "Epoch 20/50\n",
            "\u001b[1m1643/1643\u001b[0m \u001b[32m━━━━━━━━━━━━━━━━━━━━\u001b[0m\u001b[37m\u001b[0m \u001b[1m82s\u001b[0m 35ms/step - accuracy: 0.3971 - loss: 1.5247 - val_accuracy: 0.3615 - val_loss: 1.6050 - learning_rate: 3.1250e-05\n",
            "Epoch 21/50\n",
            "\u001b[1m1643/1643\u001b[0m \u001b[32m━━━━━━━━━━━━━━━━━━━━\u001b[0m\u001b[37m\u001b[0m \u001b[1m79s\u001b[0m 33ms/step - accuracy: 0.3976 - loss: 1.5240 - val_accuracy: 0.4034 - val_loss: 1.5259 - learning_rate: 3.1250e-05\n",
            "Epoch 22/50\n",
            "\u001b[1m1643/1643\u001b[0m \u001b[32m━━━━━━━━━━━━━━━━━━━━\u001b[0m\u001b[37m\u001b[0m \u001b[1m85s\u001b[0m 35ms/step - accuracy: 0.3982 - loss: 1.5226 - val_accuracy: 0.2431 - val_loss: 1.9110 - learning_rate: 3.1250e-05\n",
            "Epoch 23/50\n",
            "\u001b[1m1643/1643\u001b[0m \u001b[32m━━━━━━━━━━━━━━━━━━━━\u001b[0m\u001b[37m\u001b[0m \u001b[1m56s\u001b[0m 34ms/step - accuracy: 0.3983 - loss: 1.5224 - val_accuracy: 0.4104 - val_loss: 1.5240 - learning_rate: 1.5625e-05\n",
            "Epoch 24/50\n",
            "\u001b[1m1643/1643\u001b[0m \u001b[32m━━━━━━━━━━━━━━━━━━━━\u001b[0m\u001b[37m\u001b[0m \u001b[1m54s\u001b[0m 33ms/step - accuracy: 0.3985 - loss: 1.5213 - val_accuracy: 0.3662 - val_loss: 1.5464 - learning_rate: 1.5625e-05\n",
            "Epoch 25/50\n",
            "\u001b[1m1643/1643\u001b[0m \u001b[32m━━━━━━━━━━━━━━━━━━━━\u001b[0m\u001b[37m\u001b[0m \u001b[1m55s\u001b[0m 33ms/step - accuracy: 0.3993 - loss: 1.5207 - val_accuracy: 0.4089 - val_loss: 1.5013 - learning_rate: 1.5625e-05\n",
            "Epoch 26/50\n",
            "\u001b[1m1643/1643\u001b[0m \u001b[32m━━━━━━━━━━━━━━━━━━━━\u001b[0m\u001b[37m\u001b[0m \u001b[1m83s\u001b[0m 34ms/step - accuracy: 0.3997 - loss: 1.5195 - val_accuracy: 0.3655 - val_loss: 1.6382 - learning_rate: 1.5625e-05\n",
            "Epoch 27/50\n",
            "\u001b[1m1643/1643\u001b[0m \u001b[32m━━━━━━━━━━━━━━━━━━━━\u001b[0m\u001b[37m\u001b[0m \u001b[1m57s\u001b[0m 35ms/step - accuracy: 0.3995 - loss: 1.5186 - val_accuracy: 0.3059 - val_loss: 1.6437 - learning_rate: 1.5625e-05\n",
            "Epoch 28/50\n",
            "\u001b[1m1643/1643\u001b[0m \u001b[32m━━━━━━━━━━━━━━━━━━━━\u001b[0m\u001b[37m\u001b[0m \u001b[1m56s\u001b[0m 34ms/step - accuracy: 0.3988 - loss: 1.5189 - val_accuracy: 0.4173 - val_loss: 1.4904 - learning_rate: 1.5625e-05\n",
            "Epoch 29/50\n",
            "\u001b[1m1643/1643\u001b[0m \u001b[32m━━━━━━━━━━━━━━━━━━━━\u001b[0m\u001b[37m\u001b[0m \u001b[1m81s\u001b[0m 34ms/step - accuracy: 0.4003 - loss: 1.5169 - val_accuracy: 0.3784 - val_loss: 1.5958 - learning_rate: 1.5625e-05\n",
            "Epoch 30/50\n",
            "\u001b[1m1643/1643\u001b[0m \u001b[32m━━━━━━━━━━━━━━━━━━━━\u001b[0m\u001b[37m\u001b[0m \u001b[1m82s\u001b[0m 34ms/step - accuracy: 0.4002 - loss: 1.5175 - val_accuracy: 0.4024 - val_loss: 1.5718 - learning_rate: 1.5625e-05\n",
            "Epoch 31/50\n",
            "\u001b[1m1643/1643\u001b[0m \u001b[32m━━━━━━━━━━━━━━━━━━━━\u001b[0m\u001b[37m\u001b[0m \u001b[1m59s\u001b[0m 36ms/step - accuracy: 0.4002 - loss: 1.5183 - val_accuracy: 0.3715 - val_loss: 1.5325 - learning_rate: 1.5625e-05\n",
            "Epoch 32/50\n",
            "\u001b[1m1643/1643\u001b[0m \u001b[32m━━━━━━━━━━━━━━━━━━━━\u001b[0m\u001b[37m\u001b[0m \u001b[1m78s\u001b[0m 33ms/step - accuracy: 0.4009 - loss: 1.5155 - val_accuracy: 0.4008 - val_loss: 1.4962 - learning_rate: 7.8125e-06\n",
            "Epoch 33/50\n",
            "\u001b[1m1643/1643\u001b[0m \u001b[32m━━━━━━━━━━━━━━━━━━━━\u001b[0m\u001b[37m\u001b[0m \u001b[1m85s\u001b[0m 35ms/step - accuracy: 0.4011 - loss: 1.5153 - val_accuracy: 0.4138 - val_loss: 1.5577 - learning_rate: 7.8125e-06\n",
            "Epoch 34/50\n",
            "\u001b[1m1643/1643\u001b[0m \u001b[32m━━━━━━━━━━━━━━━━━━━━\u001b[0m\u001b[37m\u001b[0m \u001b[1m78s\u001b[0m 33ms/step - accuracy: 0.4018 - loss: 1.5154 - val_accuracy: 0.3855 - val_loss: 1.5368 - learning_rate: 7.8125e-06\n",
            "Epoch 35/50\n",
            "\u001b[1m1643/1643\u001b[0m \u001b[32m━━━━━━━━━━━━━━━━━━━━\u001b[0m\u001b[37m\u001b[0m \u001b[1m84s\u001b[0m 34ms/step - accuracy: 0.4006 - loss: 1.5151 - val_accuracy: 0.4175 - val_loss: 1.4836 - learning_rate: 3.9063e-06\n",
            "Epoch 36/50\n",
            "\u001b[1m1643/1643\u001b[0m \u001b[32m━━━━━━━━━━━━━━━━━━━━\u001b[0m\u001b[37m\u001b[0m \u001b[1m82s\u001b[0m 34ms/step - accuracy: 0.4017 - loss: 1.5132 - val_accuracy: 0.4182 - val_loss: 1.4892 - learning_rate: 3.9063e-06\n",
            "Epoch 37/50\n",
            "\u001b[1m1643/1643\u001b[0m \u001b[32m━━━━━━━━━━━━━━━━━━━━\u001b[0m\u001b[37m\u001b[0m \u001b[1m82s\u001b[0m 34ms/step - accuracy: 0.4016 - loss: 1.5154 - val_accuracy: 0.4205 - val_loss: 1.4801 - learning_rate: 3.9063e-06\n",
            "Epoch 38/50\n",
            "\u001b[1m1643/1643\u001b[0m \u001b[32m━━━━━━━━━━━━━━━━━━━━\u001b[0m\u001b[37m\u001b[0m \u001b[1m56s\u001b[0m 34ms/step - accuracy: 0.4016 - loss: 1.5128 - val_accuracy: 0.4198 - val_loss: 1.4828 - learning_rate: 3.9063e-06\n",
            "Epoch 39/50\n",
            "\u001b[1m1643/1643\u001b[0m \u001b[32m━━━━━━━━━━━━━━━━━━━━\u001b[0m\u001b[37m\u001b[0m \u001b[1m83s\u001b[0m 35ms/step - accuracy: 0.4013 - loss: 1.5136 - val_accuracy: 0.3654 - val_loss: 1.6708 - learning_rate: 3.9063e-06\n",
            "Epoch 40/50\n",
            "\u001b[1m1643/1643\u001b[0m \u001b[32m━━━━━━━━━━━━━━━━━━━━\u001b[0m\u001b[37m\u001b[0m \u001b[1m82s\u001b[0m 34ms/step - accuracy: 0.4015 - loss: 1.5143 - val_accuracy: 0.3240 - val_loss: 1.7033 - learning_rate: 3.9063e-06\n",
            "Epoch 41/50\n",
            "\u001b[1m1643/1643\u001b[0m \u001b[32m━━━━━━━━━━━━━━━━━━━━\u001b[0m\u001b[37m\u001b[0m \u001b[1m57s\u001b[0m 35ms/step - accuracy: 0.4009 - loss: 1.5147 - val_accuracy: 0.4172 - val_loss: 1.4796 - learning_rate: 1.9531e-06\n",
            "Epoch 42/50\n",
            "\u001b[1m1643/1643\u001b[0m \u001b[32m━━━━━━━━━━━━━━━━━━━━\u001b[0m\u001b[37m\u001b[0m \u001b[1m56s\u001b[0m 34ms/step - accuracy: 0.4012 - loss: 1.5140 - val_accuracy: 0.4059 - val_loss: 1.4889 - learning_rate: 1.9531e-06\n",
            "Epoch 43/50\n",
            "\u001b[1m1643/1643\u001b[0m \u001b[32m━━━━━━━━━━━━━━━━━━━━\u001b[0m\u001b[37m\u001b[0m \u001b[1m57s\u001b[0m 35ms/step - accuracy: 0.4018 - loss: 1.5130 - val_accuracy: 0.4236 - val_loss: 1.4739 - learning_rate: 1.9531e-06\n",
            "Epoch 44/50\n",
            "\u001b[1m1643/1643\u001b[0m \u001b[32m━━━━━━━━━━━━━━━━━━━━\u001b[0m\u001b[37m\u001b[0m \u001b[1m82s\u001b[0m 34ms/step - accuracy: 0.4018 - loss: 1.5146 - val_accuracy: 0.4190 - val_loss: 1.4974 - learning_rate: 1.9531e-06\n",
            "Epoch 45/50\n",
            "\u001b[1m1643/1643\u001b[0m \u001b[32m━━━━━━━━━━━━━━━━━━━━\u001b[0m\u001b[37m\u001b[0m \u001b[1m59s\u001b[0m 36ms/step - accuracy: 0.4024 - loss: 1.5139 - val_accuracy: 0.4221 - val_loss: 1.4804 - learning_rate: 1.9531e-06\n",
            "Epoch 46/50\n",
            "\u001b[1m1643/1643\u001b[0m \u001b[32m━━━━━━━━━━━━━━━━━━━━\u001b[0m\u001b[37m\u001b[0m \u001b[1m80s\u001b[0m 34ms/step - accuracy: 0.4026 - loss: 1.5130 - val_accuracy: 0.4177 - val_loss: 1.4749 - learning_rate: 1.9531e-06\n",
            "Epoch 47/50\n",
            "\u001b[1m1643/1643\u001b[0m \u001b[32m━━━━━━━━━━━━━━━━━━━━\u001b[0m\u001b[37m\u001b[0m \u001b[1m83s\u001b[0m 35ms/step - accuracy: 0.4018 - loss: 1.5141 - val_accuracy: 0.4222 - val_loss: 1.4729 - learning_rate: 1.0000e-06\n",
            "Epoch 48/50\n",
            "\u001b[1m1643/1643\u001b[0m \u001b[32m━━━━━━━━━━━━━━━━━━━━\u001b[0m\u001b[37m\u001b[0m \u001b[1m83s\u001b[0m 35ms/step - accuracy: 0.4023 - loss: 1.5138 - val_accuracy: 0.4205 - val_loss: 1.4743 - learning_rate: 1.0000e-06\n",
            "Epoch 49/50\n",
            "\u001b[1m1643/1643\u001b[0m \u001b[32m━━━━━━━━━━━━━━━━━━━━\u001b[0m\u001b[37m\u001b[0m \u001b[1m81s\u001b[0m 35ms/step - accuracy: 0.4011 - loss: 1.5141 - val_accuracy: 0.4127 - val_loss: 1.4776 - learning_rate: 1.0000e-06\n",
            "Epoch 50/50\n",
            "\u001b[1m1643/1643\u001b[0m \u001b[32m━━━━━━━━━━━━━━━━━━━━\u001b[0m\u001b[37m\u001b[0m \u001b[1m58s\u001b[0m 36ms/step - accuracy: 0.4018 - loss: 1.5149 - val_accuracy: 0.4212 - val_loss: 1.4734 - learning_rate: 1.0000e-06\n"
          ]
        }
      ]
    },
    {
      "cell_type": "markdown",
      "source": [
        "Evaluating Model Performance on the Test Set"
      ],
      "metadata": {
        "id": "2piY5K_b-CjR"
      }
    },
    {
      "cell_type": "code",
      "source": [
        "# Evaluate the model on the test set and print the accuracy\n",
        "test_loss, test_accuracy = model.evaluate(X_test, y_test['target'])\n",
        "print(f\"Test Accuracy: {test_accuracy * 100:.2f}%\")"
      ],
      "metadata": {
        "colab": {
          "base_uri": "https://localhost:8080/"
        },
        "id": "iHyHpOeWNado",
        "outputId": "855495d1-198d-4262-c4a6-62c50ead4df9"
      },
      "execution_count": 15,
      "outputs": [
        {
          "output_type": "stream",
          "name": "stdout",
          "text": [
            "\u001b[1m9788/9788\u001b[0m \u001b[32m━━━━━━━━━━━━━━━━━━━━\u001b[0m\u001b[37m\u001b[0m \u001b[1m31s\u001b[0m 3ms/step - accuracy: 0.3882 - loss: 1.5440\n",
            "Test Accuracy: 38.93%\n"
          ]
        }
      ]
    },
    {
      "cell_type": "markdown",
      "source": [
        "Generating Predictions Using the Trained Model"
      ],
      "metadata": {
        "id": "d2Cr0EGo-ON-"
      }
    },
    {
      "cell_type": "code",
      "source": [
        "# Predict class probabilities and convert them to class labels\n",
        "y_pred_dnn = model.predict(X_test)\n",
        "y_pred_dnn_classes = np.argmax(y_pred_dnn, axis=1)"
      ],
      "metadata": {
        "id": "ArAXzbnQ6f4U",
        "outputId": "02e3d28d-7e1b-4509-bd32-0e71ff65d014",
        "colab": {
          "base_uri": "https://localhost:8080/"
        }
      },
      "execution_count": null,
      "outputs": [
        {
          "output_type": "stream",
          "name": "stdout",
          "text": [
            "\u001b[1m9788/9788\u001b[0m \u001b[32m━━━━━━━━━━━━━━━━━━━━\u001b[0m\u001b[37m\u001b[0m \u001b[1m26s\u001b[0m 3ms/step\n"
          ]
        }
      ]
    },
    {
      "cell_type": "markdown",
      "source": [
        "Evaluation Function for Classification Models"
      ],
      "metadata": {
        "id": "dI5clZjP-d2B"
      }
    },
    {
      "cell_type": "code",
      "source": [
        "# Define a function to calculate and return multiple evaluation metrics\n",
        "def evaluate_model(y_true, y_pred, average='weighted'):\n",
        "    metrics = {\n",
        "        \"Accuracy\": accuracy_score(y_true, y_pred),\n",
        "        \"Precision\": precision_score(y_true, y_pred, average=average, zero_division=0),\n",
        "        \"Recall\": recall_score(y_true, y_pred, average=average, zero_division=0),\n",
        "        \"F1 Score\": f1_score(y_true, y_pred, average=average, zero_division=0),\n",
        "        \"Confusion Matrix\": confusion_matrix(y_true, y_pred)\n",
        "    }\n",
        "    return metrics"
      ],
      "metadata": {
        "id": "pHsaxGwg275P"
      },
      "execution_count": null,
      "outputs": []
    },
    {
      "cell_type": "markdown",
      "source": [
        "Evaluating the DNN Model on the Test Set"
      ],
      "metadata": {
        "id": "cIS0sQHV-sXG"
      }
    },
    {
      "cell_type": "code",
      "source": [
        "dnn_metrics = evaluate_model(y_test['target'], y_pred_dnn_classes)\n",
        "\n",
        "for metric, value in dnn_metrics.items():\n",
        "    print(f\"DNN {metric}: {value}\")"
      ],
      "metadata": {
        "id": "QLScb_Zb6YoB",
        "outputId": "977bf3a7-8fb3-46f4-a651-6e251663fc3a",
        "colab": {
          "base_uri": "https://localhost:8080/"
        }
      },
      "execution_count": null,
      "outputs": [
        {
          "output_type": "stream",
          "name": "stdout",
          "text": [
            "DNN Accuracy: 0.35660006258102006\n",
            "DNN Precision: 0.23936560766514514\n",
            "DNN Recall: 0.35660006258102006\n",
            "DNN F1 Score: 0.24693119354683185\n",
            "DNN Confusion Matrix: [[    0     0     0     0   298     0     0     0     0     0    34     0\n",
            "      0     0]\n",
            " [    0     0     0     0  3796     0     0     0     0     0  1670     0\n",
            "      0     0]\n",
            " [    0     0     0     0  2463     0     0     0     0     0   332     0\n",
            "      0     0]\n",
            " [    0     0     0     0 16913     0     0     0     0     0  2269     0\n",
            "      0     0]\n",
            " [    0     0     0     0 96245     0     0     0     0     0 13379     0\n",
            "      0     0]\n",
            " [    0     0     0     0  4708     0     0     0     0     0  1265     0\n",
            "      0     0]\n",
            " [    0     0     0     0    78     0     0     0     0     0     3     0\n",
            "      0     0]\n",
            " [    0     0     0     0 12846     0     0     0     0     0  2034     0\n",
            "      0     0]\n",
            " [    0     0     0     0   385     0     0     0     0     0    69     0\n",
            "      0     0]\n",
            " [    0     0     0     0 41101     0     0     0     0     0  7568     0\n",
            "      0     0]\n",
            " [    0     0     0     0 87504     0     0     0     0     0 15440     0\n",
            "      0     0]\n",
            " [    0     0     0     0   867     0     0     0     0     0   215     0\n",
            "      0     0]\n",
            " [    0     0     0     0  1430     0     0     0     0     0   242     0\n",
            "      0     0]\n",
            " [    0     0     0     0    34     0     0     0     0     0     6     0\n",
            "      0     0]]\n"
          ]
        }
      ]
    }
  ]
}