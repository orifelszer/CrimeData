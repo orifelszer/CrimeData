{
  "nbformat": 4,
  "nbformat_minor": 0,
  "metadata": {
    "colab": {
      "provenance": [],
      "authorship_tag": "ABX9TyPSavO2jvsY1/LcRdLjraK7",
      "include_colab_link": true
    },
    "kernelspec": {
      "name": "python3",
      "display_name": "Python 3"
    },
    "language_info": {
      "name": "python"
    }
  },
  "cells": [
    {
      "cell_type": "markdown",
      "metadata": {
        "id": "view-in-github",
        "colab_type": "text"
      },
      "source": [
        "<a href=\"https://colab.research.google.com/github/orifelszer/CrimeData/blob/eden-branch/DNN.ipynb\" target=\"_parent\"><img src=\"https://colab.research.google.com/assets/colab-badge.svg\" alt=\"Open In Colab\"/></a>"
      ]
    },
    {
      "cell_type": "code",
      "execution_count": null,
      "metadata": {
        "id": "EDnGrL94AwiB"
      },
      "outputs": [],
      "source": [
        "import numpy as np\n",
        "import matplotlib.pyplot as plt\n",
        "import pandas as pd\n",
        "import seaborn as sns\n",
        "from sklearn.model_selection import train_test_split\n",
        "import zipfile\n",
        "import tensorflow as tf\n",
        "from tensorflow import keras\n",
        "from tensorflow.keras import layers\n",
        "from tensorflow.keras.callbacks import EarlyStopping\n",
        "from sklearn.preprocessing import LabelEncoder\n",
        "from sklearn.utils.class_weight import compute_class_weight"
      ]
    },
    {
      "cell_type": "code",
      "source": [
        "# ✅ שלב 1: שכפול המאגר מה-GitHub\n",
        "!git clone https://github.com/orifelszer/CrimeData.git\n",
        "\n",
        "# ✅ שלב 2: פונקציה לפתיחת קובצי ZIP מהתיקייה המקומית\n",
        "def load_zipped_csv_local(zip_path):\n",
        "    with zipfile.ZipFile(zip_path, 'r') as zip_ref:\n",
        "        csv_name = zip_ref.namelist()[0]\n",
        "        with zip_ref.open(csv_name) as file:\n",
        "            return pd.read_csv(file)\n",
        "\n",
        "# ✅ שלב 3: קריאת הנתונים לאחר השכפול (נתיב מקומי)\n",
        "X_train = load_zipped_csv_local('CrimeData/X_train_supervised.zip')\n",
        "X_test = load_zipped_csv_local('CrimeData/X_test_supervised.zip')\n",
        "y_city_train = load_zipped_csv_local('CrimeData/y_city_train_supervised.zip')\n",
        "y_city_test = load_zipped_csv_local('CrimeData/y_city_test_supervised.zip')\n",
        "y_crime_train = load_zipped_csv_local('CrimeData/y_crime_train_supervised.zip')\n",
        "y_crime_test = load_zipped_csv_local('CrimeData/y_crime_test_supervised.zip')\n",
        "\n",
        "# ✅ בדיקה שהנתונים נטענו כראוי\n",
        "print(f\"X_train Shape: {X_train.shape}\")\n",
        "print(f\"X_test Shape: {X_test.shape}\")\n",
        "print(f\"y_city_train Shape: {y_city_train.shape}\")\n",
        "print(f\"y_crime_train Shape: {y_crime_train.shape}\")"
      ],
      "metadata": {
        "id": "S6e6MzK3Az3S"
      },
      "execution_count": null,
      "outputs": []
    },
    {
      "cell_type": "code",
      "source": [
        "# ✅ פונקציה לבניית רשת נוירונים רב משימתית\n",
        "def create_multitask_neural_network(input_shape, city_output_shape, crime_output_shape):\n",
        "    inputs = keras.Input(shape=input_shape)\n",
        "\n",
        "    # שכבות חבויות\n",
        "    x = layers.Dense(256, activation='relu')(inputs)\n",
        "    x = layers.Dropout(0.3)(x)\n",
        "    x = layers.Dense(128, activation='relu')(x)\n",
        "    x = layers.Dropout(0.3)(x)\n",
        "    x = layers.Dense(64, activation='relu')(x)\n",
        "\n",
        "    # יציאות נפרדות עבור העיר וסוג הפשע\n",
        "    city_output = layers.Dense(city_output_shape, activation='softmax', name=\"city_output\")(x)\n",
        "    crime_output = layers.Dense(crime_output_shape, activation='softmax', name=\"crime_output\")(x)\n",
        "\n",
        "    # בניית המודל והגדרות אובדן ואופטימיזציה\n",
        "    model = keras.Model(inputs=inputs, outputs=[city_output, crime_output])\n",
        "    model.compile(optimizer='adam',\n",
        "                  loss={'city_output': 'categorical_crossentropy',\n",
        "                        'crime_output': 'categorical_crossentropy'},\n",
        "                  metrics={'city_output': 'accuracy', 'crime_output': 'accuracy'})\n",
        "    return model"
      ],
      "metadata": {
        "id": "0BRwiAJXlma7"
      },
      "execution_count": null,
      "outputs": []
    },
    {
      "cell_type": "code",
      "source": [
        "# ✅ יצירת הרשת\n",
        "model = create_multitask_neural_network(input_shape=(X_train.shape[1],),\n",
        "                                        city_output_shape=y_city_train.shape[1],\n",
        "                                        crime_output_shape=y_crime_train.shape[1])\n",
        "\n",
        "# ✅ סיכום מבנה הרשת\n",
        "model.summary()"
      ],
      "metadata": {
        "id": "WhEy_0KNA35M"
      },
      "execution_count": null,
      "outputs": []
    },
    {
      "cell_type": "code",
      "source": [
        "def data_generator(X, y_city, y_crime, batch_size=64):\n",
        "    num_samples = X.shape[0]\n",
        "    while True:\n",
        "        for offset in range(0, num_samples, batch_size):\n",
        "            X_batch = X[offset:offset+batch_size].values.astype('float32')\n",
        "            y_city_batch = y_city[offset:offset+batch_size].values.astype('float32')\n",
        "            y_crime_batch = y_crime[offset:offset+batch_size].values.astype('float32')\n",
        "            yield X_batch, {'city_output': y_city_batch, 'crime_output': y_crime_batch}"
      ],
      "metadata": {
        "id": "mUwOeglGA6JA"
      },
      "execution_count": null,
      "outputs": []
    },
    {
      "cell_type": "code",
      "source": [
        "# יצירת הגנרטורים\n",
        "train_gen = data_generator(X_train, y_city_train, y_crime_train, batch_size=64)\n",
        "val_gen = data_generator(X_test, y_city_test, y_crime_test, batch_size=64)"
      ],
      "metadata": {
        "id": "9mAfQPG9A73-"
      },
      "execution_count": null,
      "outputs": []
    },
    {
      "cell_type": "code",
      "source": [
        "# ✅ הגדרת Early Stopping\n",
        "early_stopping = EarlyStopping(\n",
        "    monitor='val_loss',\n",
        "    patience=5,\n",
        "    restore_best_weights=True)"
      ],
      "metadata": {
        "id": "JKO9djctA9wr"
      },
      "execution_count": null,
      "outputs": []
    },
    {
      "cell_type": "code",
      "source": [
        "# ✅ פונקציה להצגת גרפי אימון\n",
        "def plot_training_history(history):\n",
        "    plt.figure(figsize=(12, 5))\n",
        "\n",
        "    # גרף דיוק\n",
        "    plt.subplot(1, 2, 1)\n",
        "    plt.plot(history.history['city_output_accuracy'], label='City Train Accuracy')\n",
        "    plt.plot(history.history['val_city_output_accuracy'], label='City Test Accuracy')\n",
        "    plt.plot(history.history['crime_output_accuracy'], label='Crime Train Accuracy')\n",
        "    plt.plot(history.history['val_crime_output_accuracy'], label='Crime Test Accuracy')\n",
        "    plt.title('Accuracy per Epoch')\n",
        "    plt.xlabel('Epochs')\n",
        "    plt.ylabel('Accuracy')\n",
        "    plt.legend()\n",
        "\n",
        "    # גרף הפסד (Loss)\n",
        "    plt.subplot(1, 2, 2)\n",
        "    plt.plot(history.history['city_output_loss'], label='City Train Loss')\n",
        "    plt.plot(history.history['val_city_output_loss'], label='City Test Loss')\n",
        "    plt.plot(history.history['crime_output_loss'], label='Crime Train Loss')\n",
        "    plt.plot(history.history['val_crime_output_loss'], label='Crime Test Loss')\n",
        "    plt.title('Loss per Epoch')\n",
        "    plt.xlabel('Epochs')\n",
        "    plt.ylabel('Loss')\n",
        "    plt.legend()\n",
        "\n",
        "    plt.tight_layout()\n",
        "    plt.show()"
      ],
      "metadata": {
        "id": "zPQrlubHA_US"
      },
      "execution_count": null,
      "outputs": []
    },
    {
      "cell_type": "code",
      "source": [
        "# ✅ אימון המודל עם הגנרטור\n",
        "history = model.fit(\n",
        "    train_gen,\n",
        "    steps_per_epoch=len(X_train) // 64,\n",
        "    validation_data=val_gen,\n",
        "    validation_steps=len(X_test) // 64,\n",
        "    epochs=50,\n",
        "    callbacks=[early_stopping])"
      ],
      "metadata": {
        "id": "r6f24yYKBA3L"
      },
      "execution_count": null,
      "outputs": []
    },
    {
      "cell_type": "code",
      "source": [
        "# ✅ הצגת גרף האימון\n",
        "plot_training_history(history)"
      ],
      "metadata": {
        "id": "per1wNDcBCY9"
      },
      "execution_count": null,
      "outputs": []
    },
    {
      "cell_type": "code",
      "source": [
        "# ✅ הערכת ביצועי המודל על סט הבדיקה\n",
        "results = model.evaluate(X_test_scaled,\n",
        "                         {'city_output': y_city_test.values, 'crime_output': y_crime_test.values})\n",
        "print(f\"\\nEvaluation Results: {results}\")"
      ],
      "metadata": {
        "id": "AOPQqTp6BEIY"
      },
      "execution_count": null,
      "outputs": []
    },
    {
      "cell_type": "code",
      "source": [],
      "metadata": {
        "id": "ToI0Rgh_BFsH"
      },
      "execution_count": null,
      "outputs": []
    }
  ]
}