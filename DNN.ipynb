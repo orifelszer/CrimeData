{
  "nbformat": 4,
  "nbformat_minor": 0,
  "metadata": {
    "colab": {
      "provenance": [],
      "include_colab_link": true
    },
    "kernelspec": {
      "name": "python3",
      "display_name": "Python 3"
    },
    "language_info": {
      "name": "python"
    }
  },
  "cells": [
    {
      "cell_type": "markdown",
      "metadata": {
        "id": "view-in-github",
        "colab_type": "text"
      },
      "source": [
        "<a href=\"https://colab.research.google.com/github/orifelszer/CrimeData/blob/oriana-branch/DNN.ipynb\" target=\"_parent\"><img src=\"https://colab.research.google.com/assets/colab-badge.svg\" alt=\"Open In Colab\"/></a>"
      ]
    },
    {
      "cell_type": "code",
      "execution_count": 7,
      "metadata": {
        "id": "EDnGrL94AwiB"
      },
      "outputs": [],
      "source": [
        "import numpy as np\n",
        "import matplotlib.pyplot as plt\n",
        "import pandas as pd\n",
        "import seaborn as sns\n",
        "from sklearn.model_selection import train_test_split\n",
        "import zipfile\n",
        "import tensorflow as tf\n",
        "from tensorflow import keras\n",
        "from tensorflow.keras import layers\n",
        "from tensorflow.keras.callbacks import EarlyStopping, ReduceLROnPlateau\n",
        "from sklearn.preprocessing import LabelEncoder\n",
        "from sklearn.utils.class_weight import compute_class_weight\n",
        "from tensorflow.keras.models import Sequential\n",
        "from tensorflow.keras.layers import Dense, Dropout, BatchNormalization, LeakyReLU\n",
        "from tensorflow.keras.optimizers import Adam\n",
        "from tensorflow.keras.regularizers import l2\n",
        "from sklearn.metrics import accuracy_score, precision_score, recall_score, f1_score, confusion_matrix"
      ]
    },
    {
      "cell_type": "code",
      "source": [
        "# ✅ שלב 1: שכפול המאגר מה-GitHub\n",
        "!git clone https://github.com/orifelszer/CrimeData.git\n",
        "\n",
        "# ✅ שלב 2: פונקציה לפתיחת קובצי ZIP מהתיקייה המקומית\n",
        "def load_zipped_csv_local(zip_path):\n",
        "    with zipfile.ZipFile(zip_path, 'r') as zip_ref:\n",
        "        csv_name = zip_ref.namelist()[0]\n",
        "        with zip_ref.open(csv_name) as file:\n",
        "            return pd.read_csv(file)\n",
        "\n",
        "# ✅ שלב 3: קריאת הנתונים לאחר השכפול (נתיב מקומי)\n",
        "X_train = load_zipped_csv_local('CrimeData/X_train_supervised.zip')\n",
        "X_test = load_zipped_csv_local('CrimeData/X_test_supervised.zip')\n",
        "y_train = load_zipped_csv_local('CrimeData/y_train_supervised.zip')\n",
        "y_test = load_zipped_csv_local('CrimeData/y_test_supervised.zip')\n",
        "\n",
        "# ✅ בדיקה שהנתונים נטענו כראוי\n",
        "print(f\"X_train Shape: {X_train.shape}\")\n",
        "print(f\"X_test Shape: {X_test.shape}\")\n",
        "print(f\"y_train Shape: {y_train.shape}\")\n",
        "print(f\"y_train Shape: {y_train.shape}\")"
      ],
      "metadata": {
        "id": "S6e6MzK3Az3S",
        "colab": {
          "base_uri": "https://localhost:8080/"
        },
        "outputId": "b495220e-ce6e-4070-aff2-9196eca40d46"
      },
      "execution_count": 2,
      "outputs": [
        {
          "output_type": "stream",
          "name": "stdout",
          "text": [
            "Cloning into 'CrimeData'...\n",
            "remote: Enumerating objects: 825, done.\u001b[K\n",
            "remote: Counting objects: 100% (270/270), done.\u001b[K\n",
            "remote: Compressing objects: 100% (120/120), done.\u001b[K\n",
            "remote: Total 825 (delta 225), reused 150 (delta 150), pack-reused 555 (from 1)\u001b[K\n",
            "Receiving objects: 100% (825/825), 298.02 MiB | 38.58 MiB/s, done.\n",
            "Resolving deltas: 100% (435/435), done.\n",
            "X_train Shape: (1051336, 15)\n",
            "X_test Shape: (313194, 15)\n",
            "y_train Shape: (1051336, 1)\n",
            "y_train Shape: (1051336, 1)\n"
          ]
        }
      ]
    },
    {
      "cell_type": "code",
      "source": [
        "from tensorflow.keras.models import Model\n",
        "\n",
        "# הוספת EarlyStopping\n",
        "early_stopping = EarlyStopping(monitor='val_loss', patience=10, restore_best_weights=True)\n",
        "reduce_lr = ReduceLROnPlateau(monitor='val_loss', factor=0.5, patience=3, min_lr=1e-6)\n",
        "\n",
        "# בניית המודל מחדש\n",
        "model = Sequential()\n",
        "model.add(Dense(512, kernel_regularizer=l2(0.01), input_shape=(X_train.shape[1],)))\n",
        "model.add(LeakyReLU(alpha=0.01))\n",
        "model.add(BatchNormalization())\n",
        "model.add(Dropout(0.3))\n",
        "\n",
        "model.add(Dense(256, kernel_regularizer=l2(0.01)))\n",
        "model.add(LeakyReLU(alpha=0.01))\n",
        "model.add(BatchNormalization())\n",
        "model.add(Dropout(0.3))\n",
        "\n",
        "model.add(Dense(128, kernel_regularizer=l2(0.01)))\n",
        "model.add(LeakyReLU(alpha=0.01))\n",
        "model.add(BatchNormalization())\n",
        "model.add(Dropout(0.3))\n",
        "\n",
        "model.add(Dense(y_train['target'].nunique(), activation='softmax'))\n",
        "\n",
        "model.compile(optimizer=Adam(learning_rate=0.001),\n",
        "              loss='sparse_categorical_crossentropy',\n",
        "              metrics=['accuracy'])\n",
        "\n",
        "# אימון המודל כולל EarlyStopping\n",
        "history = model.fit(X_train, y_train['target'],\n",
        "                    epochs=50, batch_size=512,\n",
        "                    validation_split=0.2,\n",
        "                    callbacks=[early_stopping, reduce_lr])"
      ],
      "metadata": {
        "id": "0BRwiAJXlma7",
        "colab": {
          "base_uri": "https://localhost:8080/"
        },
        "outputId": "bd17a5d4-2891-45e1-eeec-ffb00b52f010"
      },
      "execution_count": 3,
      "outputs": [
        {
          "output_type": "stream",
          "name": "stderr",
          "text": [
            "/usr/local/lib/python3.10/dist-packages/keras/src/layers/core/dense.py:87: UserWarning: Do not pass an `input_shape`/`input_dim` argument to a layer. When using Sequential models, prefer using an `Input(shape)` object as the first layer in the model instead.\n",
            "  super().__init__(activity_regularizer=activity_regularizer, **kwargs)\n",
            "/usr/local/lib/python3.10/dist-packages/keras/src/layers/activations/leaky_relu.py:41: UserWarning: Argument `alpha` is deprecated. Use `negative_slope` instead.\n",
            "  warnings.warn(\n"
          ]
        },
        {
          "output_type": "stream",
          "name": "stdout",
          "text": [
            "Epoch 1/50\n",
            "\u001b[1m1643/1643\u001b[0m \u001b[32m━━━━━━━━━━━━━━━━━━━━\u001b[0m\u001b[37m\u001b[0m \u001b[1m57s\u001b[0m 33ms/step - accuracy: 0.3117 - loss: 2.9672 - val_accuracy: 0.3893 - val_loss: 1.5989 - learning_rate: 0.0010\n",
            "Epoch 2/50\n",
            "\u001b[1m1643/1643\u001b[0m \u001b[32m━━━━━━━━━━━━━━━━━━━━\u001b[0m\u001b[37m\u001b[0m \u001b[1m82s\u001b[0m 33ms/step - accuracy: 0.3693 - loss: 1.6179 - val_accuracy: 0.2875 - val_loss: 1.8073 - learning_rate: 0.0010\n",
            "Epoch 3/50\n",
            "\u001b[1m1643/1643\u001b[0m \u001b[32m━━━━━━━━━━━━━━━━━━━━\u001b[0m\u001b[37m\u001b[0m \u001b[1m57s\u001b[0m 34ms/step - accuracy: 0.3769 - loss: 1.5970 - val_accuracy: 0.3596 - val_loss: 1.7484 - learning_rate: 0.0010\n",
            "Epoch 4/50\n",
            "\u001b[1m1643/1643\u001b[0m \u001b[32m━━━━━━━━━━━━━━━━━━━━\u001b[0m\u001b[37m\u001b[0m \u001b[1m79s\u001b[0m 33ms/step - accuracy: 0.3768 - loss: 1.5896 - val_accuracy: 0.2974 - val_loss: 1.8381 - learning_rate: 0.0010\n",
            "Epoch 5/50\n",
            "\u001b[1m1643/1643\u001b[0m \u001b[32m━━━━━━━━━━━━━━━━━━━━\u001b[0m\u001b[37m\u001b[0m \u001b[1m84s\u001b[0m 34ms/step - accuracy: 0.3796 - loss: 1.5720 - val_accuracy: 0.3935 - val_loss: 1.8094 - learning_rate: 5.0000e-04\n",
            "Epoch 6/50\n",
            "\u001b[1m1643/1643\u001b[0m \u001b[32m━━━━━━━━━━━━━━━━━━━━\u001b[0m\u001b[37m\u001b[0m \u001b[1m57s\u001b[0m 35ms/step - accuracy: 0.3793 - loss: 1.5673 - val_accuracy: 0.3935 - val_loss: 2.0341 - learning_rate: 5.0000e-04\n",
            "Epoch 7/50\n",
            "\u001b[1m1643/1643\u001b[0m \u001b[32m━━━━━━━━━━━━━━━━━━━━\u001b[0m\u001b[37m\u001b[0m \u001b[1m80s\u001b[0m 33ms/step - accuracy: 0.3790 - loss: 1.5644 - val_accuracy: 0.3935 - val_loss: 2.9001 - learning_rate: 5.0000e-04\n",
            "Epoch 8/50\n",
            "\u001b[1m1643/1643\u001b[0m \u001b[32m━━━━━━━━━━━━━━━━━━━━\u001b[0m\u001b[37m\u001b[0m \u001b[1m53s\u001b[0m 32ms/step - accuracy: 0.3844 - loss: 1.5541 - val_accuracy: 0.0237 - val_loss: 5.1928 - learning_rate: 2.5000e-04\n",
            "Epoch 9/50\n",
            "\u001b[1m1643/1643\u001b[0m \u001b[32m━━━━━━━━━━━━━━━━━━━━\u001b[0m\u001b[37m\u001b[0m \u001b[1m83s\u001b[0m 33ms/step - accuracy: 0.3866 - loss: 1.5492 - val_accuracy: 0.0218 - val_loss: 9.9928 - learning_rate: 2.5000e-04\n",
            "Epoch 10/50\n",
            "\u001b[1m1643/1643\u001b[0m \u001b[32m━━━━━━━━━━━━━━━━━━━━\u001b[0m\u001b[37m\u001b[0m \u001b[1m52s\u001b[0m 32ms/step - accuracy: 0.3875 - loss: 1.5472 - val_accuracy: 0.0237 - val_loss: 5.0801 - learning_rate: 2.5000e-04\n",
            "Epoch 11/50\n",
            "\u001b[1m1643/1643\u001b[0m \u001b[32m━━━━━━━━━━━━━━━━━━━━\u001b[0m\u001b[37m\u001b[0m \u001b[1m83s\u001b[0m 33ms/step - accuracy: 0.3904 - loss: 1.5405 - val_accuracy: 0.3935 - val_loss: 1.9443 - learning_rate: 1.2500e-04\n"
          ]
        }
      ]
    },
    {
      "cell_type": "code",
      "source": [
        "# הערכת ביצועים על סט הבדיקה\n",
        "test_loss, test_accuracy = model.evaluate(X_test, y_test['target'])\n",
        "print(f\"Test Accuracy: {test_accuracy * 100:.2f}%\")"
      ],
      "metadata": {
        "colab": {
          "base_uri": "https://localhost:8080/"
        },
        "id": "iHyHpOeWNado",
        "outputId": "07287be5-d3af-492c-812a-238c41835f34"
      },
      "execution_count": 4,
      "outputs": [
        {
          "output_type": "stream",
          "name": "stdout",
          "text": [
            "\u001b[1m9788/9788\u001b[0m \u001b[32m━━━━━━━━━━━━━━━━━━━━\u001b[0m\u001b[37m\u001b[0m \u001b[1m26s\u001b[0m 3ms/step - accuracy: 0.3551 - loss: 1.6425\n",
            "Test Accuracy: 35.66%\n"
          ]
        }
      ]
    },
    {
      "cell_type": "code",
      "source": [
        "# Predictions\n",
        "y_pred_dnn = model.predict(X_test)\n",
        "y_pred_dnn_classes = np.argmax(y_pred_dnn, axis=1)  # Convert probabilities to class labels"
      ],
      "metadata": {
        "id": "ArAXzbnQ6f4U",
        "outputId": "02e3d28d-7e1b-4509-bd32-0e71ff65d014",
        "colab": {
          "base_uri": "https://localhost:8080/"
        }
      },
      "execution_count": 9,
      "outputs": [
        {
          "output_type": "stream",
          "name": "stdout",
          "text": [
            "\u001b[1m9788/9788\u001b[0m \u001b[32m━━━━━━━━━━━━━━━━━━━━\u001b[0m\u001b[37m\u001b[0m \u001b[1m26s\u001b[0m 3ms/step\n"
          ]
        }
      ]
    },
    {
      "cell_type": "code",
      "source": [
        "# Evaluation function\n",
        "def evaluate_model(y_true, y_pred, average='weighted'):\n",
        "    metrics = {\n",
        "        \"Accuracy\": accuracy_score(y_true, y_pred),\n",
        "        \"Precision\": precision_score(y_true, y_pred, average=average, zero_division=0),\n",
        "        \"Recall\": recall_score(y_true, y_pred, average=average, zero_division=0),\n",
        "        \"F1 Score\": f1_score(y_true, y_pred, average=average, zero_division=0),\n",
        "        \"Confusion Matrix\": confusion_matrix(y_true, y_pred)\n",
        "    }\n",
        "    return metrics"
      ],
      "metadata": {
        "id": "pHsaxGwg275P"
      },
      "execution_count": 5,
      "outputs": []
    },
    {
      "cell_type": "code",
      "source": [
        "# Evaluate DNN model\n",
        "dnn_metrics = evaluate_model(y_test['target'], y_pred_dnn_classes)\n",
        "for metric, value in dnn_metrics.items():\n",
        "    print(f\"DNN {metric}: {value}\")"
      ],
      "metadata": {
        "id": "QLScb_Zb6YoB",
        "outputId": "977bf3a7-8fb3-46f4-a651-6e251663fc3a",
        "colab": {
          "base_uri": "https://localhost:8080/"
        }
      },
      "execution_count": 10,
      "outputs": [
        {
          "output_type": "stream",
          "name": "stdout",
          "text": [
            "DNN Accuracy: 0.35660006258102006\n",
            "DNN Precision: 0.23936560766514514\n",
            "DNN Recall: 0.35660006258102006\n",
            "DNN F1 Score: 0.24693119354683185\n",
            "DNN Confusion Matrix: [[    0     0     0     0   298     0     0     0     0     0    34     0\n",
            "      0     0]\n",
            " [    0     0     0     0  3796     0     0     0     0     0  1670     0\n",
            "      0     0]\n",
            " [    0     0     0     0  2463     0     0     0     0     0   332     0\n",
            "      0     0]\n",
            " [    0     0     0     0 16913     0     0     0     0     0  2269     0\n",
            "      0     0]\n",
            " [    0     0     0     0 96245     0     0     0     0     0 13379     0\n",
            "      0     0]\n",
            " [    0     0     0     0  4708     0     0     0     0     0  1265     0\n",
            "      0     0]\n",
            " [    0     0     0     0    78     0     0     0     0     0     3     0\n",
            "      0     0]\n",
            " [    0     0     0     0 12846     0     0     0     0     0  2034     0\n",
            "      0     0]\n",
            " [    0     0     0     0   385     0     0     0     0     0    69     0\n",
            "      0     0]\n",
            " [    0     0     0     0 41101     0     0     0     0     0  7568     0\n",
            "      0     0]\n",
            " [    0     0     0     0 87504     0     0     0     0     0 15440     0\n",
            "      0     0]\n",
            " [    0     0     0     0   867     0     0     0     0     0   215     0\n",
            "      0     0]\n",
            " [    0     0     0     0  1430     0     0     0     0     0   242     0\n",
            "      0     0]\n",
            " [    0     0     0     0    34     0     0     0     0     0     6     0\n",
            "      0     0]]\n"
          ]
        }
      ]
    },
    {
      "cell_type": "code",
      "source": [],
      "metadata": {
        "id": "7JWOCFep2vGu"
      },
      "execution_count": null,
      "outputs": []
    }
  ]
}