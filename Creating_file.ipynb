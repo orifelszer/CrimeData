{
  "nbformat": 4,
  "nbformat_minor": 0,
  "metadata": {
    "colab": {
      "provenance": [],
      "authorship_tag": "ABX9TyNqaWlU+0WylY9TaxZjZUMM",
      "include_colab_link": true
    },
    "kernelspec": {
      "name": "python3",
      "display_name": "Python 3"
    },
    "language_info": {
      "name": "python"
    }
  },
  "cells": [
    {
      "cell_type": "markdown",
      "metadata": {
        "id": "view-in-github",
        "colab_type": "text"
      },
      "source": [
        "<a href=\"https://colab.research.google.com/github/orifelszer/CrimeData/blob/eden-branch/Creating_file.ipynb\" target=\"_parent\"><img src=\"https://colab.research.google.com/assets/colab-badge.svg\" alt=\"Open In Colab\"/></a>"
      ]
    },
    {
      "cell_type": "code",
      "source": [
        "import glob\n",
        "import pandas as pd\n",
        "from sklearn.model_selection import train_test_split"
      ],
      "metadata": {
        "id": "iY23eswYQBHB"
      },
      "execution_count": null,
      "outputs": []
    },
    {
      "cell_type": "code",
      "source": [
        "# הורדת הקובץ מ-GitHub\n",
        "!wget -O Prepare_Data.py \"https://raw.githubusercontent.com/orifelszer/CrimeData/refs/heads/main/Prepare_Data.py\"\n",
        "\n",
        "# ייבוא הפונקציה מהקובץ\n",
        "from Prepare_Data import Preprocessing_Multitask_Updated"
      ],
      "metadata": {
        "id": "y_NbyWeMxuYY",
        "outputId": "ac29a422-e94e-4351-93a4-493758227f97",
        "colab": {
          "base_uri": "https://localhost:8080/"
        }
      },
      "execution_count": null,
      "outputs": [
        {
          "output_type": "stream",
          "name": "stdout",
          "text": [
            "--2025-01-06 13:49:45--  https://raw.githubusercontent.com/orifelszer/CrimeData/refs/heads/main/Prepare_Data.py\n",
            "Resolving raw.githubusercontent.com (raw.githubusercontent.com)... 185.199.108.133, 185.199.110.133, 185.199.109.133, ...\n",
            "Connecting to raw.githubusercontent.com (raw.githubusercontent.com)|185.199.108.133|:443... connected.\n",
            "HTTP request sent, awaiting response... 200 OK\n",
            "Length: 3067 (3.0K) [text/plain]\n",
            "Saving to: ‘Prepare_Data.py’\n",
            "\n",
            "\rPrepare_Data.py       0%[                    ]       0  --.-KB/s               \rPrepare_Data.py     100%[===================>]   3.00K  --.-KB/s    in 0s      \n",
            "\n",
            "2025-01-06 13:49:45 (36.2 MB/s) - ‘Prepare_Data.py’ saved [3067/3067]\n",
            "\n"
          ]
        }
      ]
    },
    {
      "cell_type": "markdown",
      "source": [
        "Define Paths to Crime Datasets (2019–2024)"
      ],
      "metadata": {
        "id": "HH7ESwFcOeWK"
      }
    },
    {
      "cell_type": "code",
      "source": [
        "import os\n",
        "import zipfile\n",
        "\n",
        "# הורדת הנתונים מה-GitHub\n",
        "!git clone https://github.com/orifelszer/CrimeData.git\n",
        "\n",
        "zip_folder = 'CrimeData'\n",
        "# ✅ קריאה רק לקבצים בשנים 2019 עד 2024\n",
        "zip_files = [f for f in os.listdir(zip_folder) if f.startswith('crimes') and any(str(year) in f for year in range(2019, 2025))]\n",
        "\n",
        "# ✅ פריסת הקבצים הנבחרים בלבד\n",
        "for zip_file in zip_files:\n",
        "    zip_path = os.path.join(zip_folder, zip_file)\n",
        "    extract_path = os.path.join(zip_folder, zip_file.replace('.zip', ''))\n",
        "    with zipfile.ZipFile(zip_path, 'r') as zip_ref:\n",
        "        zip_ref.extractall(extract_path)\n",
        "    print(f\"Extracted: {zip_file} -> {extract_path}\")\n"
      ],
      "metadata": {
        "colab": {
          "base_uri": "https://localhost:8080/"
        },
        "id": "jNxHCYGhOb6y",
        "outputId": "909b785c-6835-4493-aaa7-58c6fbdebd40"
      },
      "execution_count": null,
      "outputs": [
        {
          "output_type": "stream",
          "name": "stdout",
          "text": [
            "Cloning into 'CrimeData'...\n",
            "remote: Enumerating objects: 171, done.\u001b[K\n",
            "remote: Counting objects: 100% (103/103), done.\u001b[K\n",
            "remote: Compressing objects: 100% (90/90), done.\u001b[K\n",
            "remote: Total 171 (delta 62), reused 13 (delta 13), pack-reused 68 (from 1)\u001b[K\n",
            "Receiving objects: 100% (171/171), 127.12 MiB | 23.71 MiB/s, done.\n",
            "Resolving deltas: 100% (87/87), done.\n",
            "Extracted: crimes2024.zip -> CrimeData/crimes2024\n",
            "Extracted: crimes2019.zip -> CrimeData/crimes2019\n",
            "Extracted: crimes2020.zip -> CrimeData/crimes2020\n",
            "Extracted: crimes2023.zip -> CrimeData/crimes2023\n",
            "Extracted: crimes2021.zip -> CrimeData/crimes2021\n",
            "Extracted: crimes2022.zip -> CrimeData/crimes2022\n"
          ]
        }
      ]
    },
    {
      "cell_type": "markdown",
      "source": [
        "Load Crime Data into Pandas DataFrames"
      ],
      "metadata": {
        "id": "FdI-ivysOl8Q"
      }
    },
    {
      "cell_type": "code",
      "source": [
        "csv_files = glob.glob(\"CrimeData/**/*.csv\", recursive=True)\n",
        "dataframes = {f\"Crimes_{file[-8:-4]}\": pd.read_csv(file) for file in csv_files}"
      ],
      "metadata": {
        "id": "sLByLu1aOi9B"
      },
      "execution_count": null,
      "outputs": []
    },
    {
      "cell_type": "code",
      "source": [
        "combined_data = pd.concat(dataframes, axis=0, ignore_index=True)"
      ],
      "metadata": {
        "id": "1QlD8nqQOqfR"
      },
      "execution_count": null,
      "outputs": []
    },
    {
      "cell_type": "code",
      "source": [
        "# הסרת שורות עם ערך -1 בעמודת StatisticGroupKod\n",
        "combined_data = combined_data[combined_data['StatisticGroupKod'] != -1]"
      ],
      "metadata": {
        "id": "cItUkZWDOtLo"
      },
      "execution_count": null,
      "outputs": []
    },
    {
      "cell_type": "code",
      "source": [
        "y_city = combined_data['Yeshuv']  # מיקום הפשע\n",
        "y_crime_type = combined_data['StatisticGroup']  # סוג הפשע"
      ],
      "metadata": {
        "id": "xHySTB66hDeY"
      },
      "execution_count": null,
      "outputs": []
    },
    {
      "cell_type": "code",
      "source": [
        "# הסרת עמודות החיזוי מהנתונים\n",
        "features = combined_data.drop(['StatisticGroup', 'StatisticGroupKod', 'Yeshuv', 'YeshuvKod'], axis=1)\n",
        "\n",
        "# ✅ חלוקה לסטים: המאפיינים מופרדים מעמודות היעד\n",
        "X_train, X_test, y_city_train, y_city_test, y_crime_train, y_crime_test = train_test_split(\n",
        "    features, y_city, y_crime_type, test_size=0.2, random_state=42, stratify=y_crime_type)"
      ],
      "metadata": {
        "id": "I4UsQaPfPAh7"
      },
      "execution_count": null,
      "outputs": []
    },
    {
      "cell_type": "code",
      "source": [
        "# ✅ שימוש בפונקציה המעודכנת ללמידה רב-משימתית\n",
        "X_train_cleaned, train_mappings, scaler = Preprocessing_Multitask_Updated(X_train, fit_scaler=True)\n",
        "X_test_cleaned = Preprocessing_Multitask_Updated(X_test, train_mappings=train_mappings, scaler=scaler)[0]"
      ],
      "metadata": {
        "id": "TQBq583ZPDMV"
      },
      "execution_count": null,
      "outputs": []
    },
    {
      "cell_type": "code",
      "source": [
        "# הגדרת עמודות לשמירה על בסיס סט האימון בלבד\n",
        "columns_to_keep = [col for col in X_train_cleaned.columns if X_train_cleaned[col].sum() >= 10]\n",
        "\n",
        "# שמירה על עמודות אימון רלוונטיות בלבד\n",
        "X_train_cleaned = X_train_cleaned[columns_to_keep]\n",
        "\n",
        "# התאמת סט המבחן רק לפי מה שנקבע באימון\n",
        "for col in columns_to_keep:\n",
        "    if col not in X_test_cleaned.columns:\n",
        "        X_test_cleaned[col] = 0\n",
        "\n",
        "# הבטחה ששני הסטים באותו סדר עמודות\n",
        "X_test_cleaned = X_test_cleaned[X_train_cleaned.columns]"
      ],
      "metadata": {
        "id": "kMIYcWlpPGNW"
      },
      "execution_count": null,
      "outputs": []
    },
    {
      "cell_type": "code",
      "source": [
        "y_city_train = y_city_train.loc[X_train_cleaned.index]\n",
        "y_city_test = y_city_test.loc[X_test_cleaned.index]\n",
        "y_crime_train = y_crime_train.loc[X_train_cleaned.index]\n",
        "y_crime_test = y_crime_test.loc[X_test_cleaned.index]"
      ],
      "metadata": {
        "id": "tEuKxKWSPJzw"
      },
      "execution_count": null,
      "outputs": []
    },
    {
      "cell_type": "code",
      "source": [
        "# Reducing memory usage\n",
        "def optimize_data_types(df):\n",
        "    for col in df.columns:\n",
        "        col_type = df[col].dtype\n",
        "\n",
        "        # אם מדובר במשתנה קטגוריאלי טקסטואלי\n",
        "        if col_type == 'object':\n",
        "            df[col] = df[col].astype('category')\n",
        "\n",
        "        # אם מדובר במשתנה מספרי רציף\n",
        "        elif col_type == 'float64':\n",
        "            df[col] = df[col].astype('float32')\n",
        "\n",
        "        # אם מדובר במשתנה מספרי שלם\n",
        "        elif col_type == 'int64':\n",
        "            df[col] = df[col].astype('int32')\n",
        "    return df\n",
        "\n",
        "# החלת הפונקציה על סט הנתונים\n",
        "X_train_cleaned = optimize_data_types(X_train_cleaned)\n",
        "X_test_cleaned = optimize_data_types(X_test_cleaned)"
      ],
      "metadata": {
        "id": "VJyYCNIHPLtg"
      },
      "execution_count": null,
      "outputs": []
    },
    {
      "cell_type": "code",
      "source": [
        "# קידוד One-Hot עבור עמודות היעד\n",
        "y_city_train_encoded = pd.get_dummies(y_city_train, prefix=\"city\")\n",
        "y_city_test_encoded = pd.get_dummies(y_city_test, prefix=\"city\")\n",
        "\n",
        "y_crime_train_encoded = pd.get_dummies(y_crime_train, prefix=\"crime\")\n",
        "y_crime_test_encoded = pd.get_dummies(y_crime_test, prefix=\"crime\")"
      ],
      "metadata": {
        "id": "Qrdfjkscl0ND"
      },
      "execution_count": null,
      "outputs": []
    },
    {
      "cell_type": "code",
      "source": [
        "# ✅ תיקון עמודות המטרה במקרה של חוסר התאמה\n",
        "max_city_columns = max(y_city_train.shape[1], y_city_test.shape[1])\n",
        "max_crime_columns = max(y_crime_train.shape[1], y_crime_test.shape[1])"
      ],
      "metadata": {
        "id": "ytxWoCl-_qOQ"
      },
      "execution_count": null,
      "outputs": []
    },
    {
      "cell_type": "code",
      "source": [
        "# יישור לכל סטי הנתונים כדי לוודא מימדים תואמים\n",
        "y_city_train = y_city_train.reindex(columns=range(max_city_columns), fill_value=0)\n",
        "y_city_test = y_city_test.reindex(columns=range(max_city_columns), fill_value=0)\n",
        "y_crime_train = y_crime_train.reindex(columns=range(max_crime_columns), fill_value=0)\n",
        "y_crime_test = y_crime_test.reindex(columns=range(max_crime_columns), fill_value=0)\n",
        "\n",
        "# ✅ בדיקת הנתונים לאחר התיקון\n",
        "print(f\"After fixing: {y_city_train.shape[1]} == {y_city_test.shape[1]}\")"
      ],
      "metadata": {
        "id": "r3EwdJpR_u3c"
      },
      "execution_count": null,
      "outputs": []
    },
    {
      "cell_type": "code",
      "source": [
        "# שמירת היעדים המקודדים כקבצי CSV\n",
        "X_train_cleaned.to_csv('X_train_supervised.csv', index=False)\n",
        "X_test_cleaned.to_csv('X_test_supervised.csv', index=False)\n",
        "y_city_train_encoded.to_csv('y_city_train_supervised.csv', index=False)\n",
        "y_city_test_encoded.to_csv('y_city_test_supervised.csv', index=False)\n",
        "y_crime_train_encoded.to_csv('y_crime_train_supervised.csv', index=False)\n",
        "y_crime_test_encoded.to_csv('y_crime_test_supervised.csv', index=False)"
      ],
      "metadata": {
        "id": "u2WiIdnETJFd"
      },
      "execution_count": null,
      "outputs": []
    }
  ]
}