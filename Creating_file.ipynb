{
  "nbformat": 4,
  "nbformat_minor": 0,
  "metadata": {
    "colab": {
      "provenance": [],
      "authorship_tag": "ABX9TyMJx+YoojKYv1AgObO2ueqd",
      "include_colab_link": true
    },
    "kernelspec": {
      "name": "python3",
      "display_name": "Python 3"
    },
    "language_info": {
      "name": "python"
    }
  },
  "cells": [
    {
      "cell_type": "markdown",
      "metadata": {
        "id": "view-in-github",
        "colab_type": "text"
      },
      "source": [
        "<a href=\"https://colab.research.google.com/github/orifelszer/CrimeData/blob/eden-branch/Creating_file.ipynb\" target=\"_parent\"><img src=\"https://colab.research.google.com/assets/colab-badge.svg\" alt=\"Open In Colab\"/></a>"
      ]
    },
    {
      "cell_type": "code",
      "source": [
        "import glob\n",
        "import pandas as pd\n",
        "from sklearn.model_selection import train_test_split"
      ],
      "metadata": {
        "id": "iY23eswYQBHB"
      },
      "execution_count": 11,
      "outputs": []
    },
    {
      "cell_type": "code",
      "execution_count": 1,
      "metadata": {
        "colab": {
          "base_uri": "https://localhost:8080/"
        },
        "id": "bvCO0nXpORID",
        "outputId": "24e9ef6e-16fb-405e-bc9a-378a83f3c25c"
      },
      "outputs": [
        {
          "output_type": "stream",
          "name": "stdout",
          "text": [
            "--2025-01-06 06:13:56--  https://raw.githubusercontent.com/orifelszer/CrimeData/main/Data_Handling.py\n",
            "Resolving raw.githubusercontent.com (raw.githubusercontent.com)... 185.199.109.133, 185.199.111.133, 185.199.110.133, ...\n",
            "Connecting to raw.githubusercontent.com (raw.githubusercontent.com)|185.199.109.133|:443... connected.\n",
            "HTTP request sent, awaiting response... 200 OK\n",
            "Length: 5256 (5.1K) [text/plain]\n",
            "Saving to: ‘Data_Handling.py’\n",
            "\n",
            "\rData_Handling.py      0%[                    ]       0  --.-KB/s               \rData_Handling.py    100%[===================>]   5.13K  --.-KB/s    in 0s      \n",
            "\n",
            "2025-01-06 06:13:56 (53.4 MB/s) - ‘Data_Handling.py’ saved [5256/5256]\n",
            "\n"
          ]
        }
      ],
      "source": [
        "# הורדת הקובץ מ-GitHub\n",
        "!wget -O Data_Handling.py \"https://raw.githubusercontent.com/orifelszer/CrimeData/main/Data_Handling.py\"\n",
        "\n",
        "# ייבוא הפונקציה מהקובץ\n",
        "from Data_Handling import Preprocessing"
      ]
    },
    {
      "cell_type": "markdown",
      "source": [
        "Define Paths to Crime Datasets (2019–2024)"
      ],
      "metadata": {
        "id": "HH7ESwFcOeWK"
      }
    },
    {
      "cell_type": "code",
      "source": [
        "!git clone https://github.com/orifelszer/CrimeData.git\n",
        "\n",
        "import os\n",
        "import zipfile\n",
        "\n",
        "zip_folder = 'CrimeData'\n",
        "\n",
        "zip_files = [f for f in os.listdir(zip_folder) if f.endswith('.zip')]\n",
        "\n",
        "for zip_file in zip_files:\n",
        "    zip_path = os.path.join(zip_folder, zip_file)\n",
        "    extract_path = os.path.join(zip_folder, zip_file.replace('.zip', ''))\n",
        "\n",
        "    with zipfile.ZipFile(zip_path, 'r') as zip_ref:\n",
        "        zip_ref.extractall(extract_path)\n",
        "    print(f\"Extracted: {zip_file} -> {extract_path}\")"
      ],
      "metadata": {
        "colab": {
          "base_uri": "https://localhost:8080/"
        },
        "id": "jNxHCYGhOb6y",
        "outputId": "1e79b749-fa02-4ac1-b1da-6f0ffa3a5e4f"
      },
      "execution_count": 2,
      "outputs": [
        {
          "output_type": "stream",
          "name": "stdout",
          "text": [
            "Cloning into 'CrimeData'...\n",
            "remote: Enumerating objects: 115, done.\u001b[K\n",
            "remote: Counting objects: 100% (47/47), done.\u001b[K\n",
            "remote: Compressing objects: 100% (34/34), done.\u001b[K\n",
            "remote: Total 115 (delta 32), reused 13 (delta 13), pack-reused 68 (from 1)\u001b[K\n",
            "Receiving objects: 100% (115/115), 97.30 MiB | 20.23 MiB/s, done.\n",
            "Resolving deltas: 100% (57/57), done.\n",
            "Extracted: crimes2024.zip -> CrimeData/crimes2024\n",
            "Extracted: crimes2019.zip -> CrimeData/crimes2019\n",
            "Extracted: crimes2020.zip -> CrimeData/crimes2020\n",
            "Extracted: crimes2023.zip -> CrimeData/crimes2023\n",
            "Extracted: crimes2021.zip -> CrimeData/crimes2021\n",
            "Extracted: crimes2022.zip -> CrimeData/crimes2022\n"
          ]
        }
      ]
    },
    {
      "cell_type": "markdown",
      "source": [
        "Load Crime Data into Pandas DataFrames"
      ],
      "metadata": {
        "id": "FdI-ivysOl8Q"
      }
    },
    {
      "cell_type": "code",
      "source": [
        "csv_files = glob.glob(\"CrimeData/**/*.csv\", recursive=True)\n",
        "dataframes = {f\"Crimes_{file[-8:-4]}\": pd.read_csv(file) for file in csv_files}"
      ],
      "metadata": {
        "id": "sLByLu1aOi9B"
      },
      "execution_count": 7,
      "outputs": []
    },
    {
      "cell_type": "code",
      "source": [
        "combined_data = pd.concat(dataframes, axis=0, ignore_index=True)"
      ],
      "metadata": {
        "id": "1QlD8nqQOqfR"
      },
      "execution_count": 8,
      "outputs": []
    },
    {
      "cell_type": "code",
      "source": [
        "# הסרת שורות עם ערך -1 בעמודת StatisticGroupKod\n",
        "combined_data = combined_data[combined_data['StatisticGroupKod'] != -1]"
      ],
      "metadata": {
        "id": "cItUkZWDOtLo"
      },
      "execution_count": 9,
      "outputs": []
    },
    {
      "cell_type": "code",
      "source": [
        "# שמירת עמודות החיזוי\n",
        "statistic_group = combined_data['StatisticGroup']\n",
        "statistic_group_kod = combined_data['StatisticGroupKod']\n",
        "\n",
        "# הסרת עמודות החיזוי מהנתונים\n",
        "features = combined_data.drop(['StatisticGroup', 'StatisticGroupKod'], axis=1)\n",
        "\n",
        "# חלוקה לסט אימון ובדיקה\n",
        "X_train, X_test, y_train, y_test = train_test_split(\n",
        "    features,\n",
        "    statistic_group,  # משתמשים רק ב-StatisticGroupKod כעמודת חיזוי\n",
        "    test_size=0.2,\n",
        "    random_state=42,\n",
        "    stratify=statistic_group  # שומר על התפלגות הקטגוריות\n",
        ")\n",
        "\n",
        "# שמירת עמודת StatisticGroup (לשימוש אפשרי בעתיד)\n",
        "y_train_text = statistic_group_kod.loc[X_train.index]\n",
        "y_test_text = statistic_group_kod.loc[X_test.index]"
      ],
      "metadata": {
        "id": "I4UsQaPfPAh7"
      },
      "execution_count": 12,
      "outputs": []
    },
    {
      "cell_type": "code",
      "source": [
        "# ניקוי סט האימון ויצירת מיפויים\n",
        "X_train_cleaned, train_mappings, scaler = Preprocessing(X_train, fit_scaler=True)\n",
        "\n",
        "# ניקוי סט הבדיקה תוך שימוש במיפויים שנוצרו בסט האימון\n",
        "X_test_cleaned, _, _ = Preprocessing(X_test, train_mappings=train_mappings, scaler=scaler)"
      ],
      "metadata": {
        "id": "TQBq583ZPDMV"
      },
      "execution_count": 13,
      "outputs": []
    },
    {
      "cell_type": "code",
      "source": [
        "# הגדרת עמודות לשמירה על בסיס סט האימון בלבד\n",
        "columns_to_keep = [col for col in X_train_cleaned.columns if X_train_cleaned[col].sum() >= 10]\n",
        "\n",
        "# שמירה על עמודות אימון רלוונטיות בלבד\n",
        "X_train_cleaned = X_train_cleaned[columns_to_keep]\n",
        "\n",
        "# התאמת סט המבחן רק לפי מה שנקבע באימון\n",
        "for col in columns_to_keep:\n",
        "    if col not in X_test_cleaned.columns:\n",
        "        X_test_cleaned[col] = 0\n",
        "\n",
        "# הבטחה ששני הסטים באותו סדר עמודות\n",
        "X_test_cleaned = X_test_cleaned[X_train_cleaned.columns]"
      ],
      "metadata": {
        "id": "kMIYcWlpPGNW"
      },
      "execution_count": 14,
      "outputs": []
    },
    {
      "cell_type": "code",
      "source": [
        "# נתונים לעבודה\n",
        "X_train = X_train_cleaned\n",
        "X_test = X_test_cleaned"
      ],
      "metadata": {
        "id": "voE6BbTSPHGU"
      },
      "execution_count": 15,
      "outputs": []
    },
    {
      "cell_type": "code",
      "source": [
        "# התאמת אינדקסים\n",
        "y_train = y_train.loc[X_train_cleaned.index]\n",
        "y_test = y_test.loc[X_test_cleaned.index]"
      ],
      "metadata": {
        "id": "tEuKxKWSPJzw"
      },
      "execution_count": 16,
      "outputs": []
    },
    {
      "cell_type": "code",
      "source": [
        "# Reducing memory usage\n",
        "def optimize_data_types(df):\n",
        "    for col in df.columns:\n",
        "        col_type = df[col].dtype\n",
        "\n",
        "        # אם מדובר במשתנה קטגוריאלי טקסטואלי\n",
        "        if col_type == 'object':\n",
        "            df[col] = df[col].astype('category')\n",
        "\n",
        "        # אם מדובר במשתנה מספרי רציף\n",
        "        elif col_type == 'float64':\n",
        "            df[col] = df[col].astype('float32')\n",
        "\n",
        "        # אם מדובר במשתנה מספרי שלם\n",
        "        elif col_type == 'int64':\n",
        "            df[col] = df[col].astype('int32')\n",
        "    return df\n",
        "\n",
        "# החלת הפונקציה על סט הנתונים\n",
        "X_train = optimize_data_types(X_train)\n",
        "X_test = optimize_data_types(X_test)"
      ],
      "metadata": {
        "id": "VJyYCNIHPLtg"
      },
      "execution_count": 17,
      "outputs": []
    }
  ]
}