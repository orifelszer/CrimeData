{
  "nbformat": 4,
  "nbformat_minor": 0,
  "metadata": {
    "colab": {
      "provenance": [],
      "authorship_tag": "ABX9TyO8V2gNcHOX5BnMBRrFpTnK",
      "include_colab_link": true
    },
    "kernelspec": {
      "name": "python3",
      "display_name": "Python 3"
    },
    "language_info": {
      "name": "python"
    }
  },
  "cells": [
    {
      "cell_type": "markdown",
      "metadata": {
        "id": "view-in-github",
        "colab_type": "text"
      },
      "source": [
        "<a href=\"https://colab.research.google.com/github/orifelszer/CrimeData/blob/main/Baseline_model.ipynb\" target=\"_parent\"><img src=\"https://colab.research.google.com/assets/colab-badge.svg\" alt=\"Open In Colab\"/></a>"
      ]
    },
    {
      "cell_type": "code",
      "execution_count": 2,
      "metadata": {
        "id": "VBDtReFUEZrT"
      },
      "outputs": [],
      "source": [
        "import pandas as pd\n",
        "import zipfile\n",
        "import requests\n",
        "from io import BytesIO\n",
        "from sklearn.dummy import DummyClassifier\n",
        "from sklearn.metrics import accuracy_score, precision_score, recall_score, f1_score, confusion_matrix, classification_report\n",
        "from sklearn.tree import DecisionTreeClassifier\n",
        "from imblearn.over_sampling import SMOTE\n",
        "import warnings\n",
        "from sklearn.exceptions import UndefinedMetricWarning\n",
        "\n",
        "# Suppress warnings\n",
        "warnings.filterwarnings(\"ignore\", category=FutureWarning)\n",
        "warnings.filterwarnings(\"ignore\", category=DeprecationWarning)\n",
        "warnings.filterwarnings(\"ignore\", category=UndefinedMetricWarning)\n",
        "\n"
      ]
    },
    {
      "cell_type": "code",
      "source": [
        "# Base URL for your GitHub repository\n",
        "base_url = \"https://github.com/orifelszer/CrimeData/raw/main/\"\n",
        "\n",
        "# File names\n",
        "files = {\n",
        "    \"X_train\": \"X_train_supervised.zip\",\n",
        "    \"X_test\": \"X_test_supervised.zip\",\n",
        "    \"y_train\": \"y_train_supervised.zip\",\n",
        "    \"y_test\": \"y_test_supervised.zip\"\n",
        "}\n",
        "\n",
        "# Function to read zip files from the repository\n",
        "def load_data_from_repo(file_name):\n",
        "    url = base_url + file_name\n",
        "    response = requests.get(url)\n",
        "    if response.status_code == 200:\n",
        "        with zipfile.ZipFile(BytesIO(response.content)) as z:\n",
        "            extracted_file_name = z.namelist()[0]\n",
        "            with z.open(extracted_file_name) as f:\n",
        "                return pd.read_csv(f)\n",
        "    else:\n",
        "        raise Exception(f\"Failed to download {file_name}\")\n",
        "\n",
        "# Load datasets\n",
        "X_train = load_data_from_repo(files[\"X_train\"])\n",
        "X_test = load_data_from_repo(files[\"X_test\"])\n",
        "y_train = load_data_from_repo(files[\"y_train\"]).values.ravel()\n",
        "y_test = load_data_from_repo(files[\"y_test\"]).values.ravel()"
      ],
      "metadata": {
        "id": "CyGNrZWjE1MG"
      },
      "execution_count": null,
      "outputs": []
    },
    {
      "cell_type": "code",
      "source": [
        "# Handle imbalanced data using SMOTE\n",
        "smote = SMOTE(random_state=42)\n",
        "X_train_balanced, y_train_balanced = smote.fit_resample(X_train, y_train)"
      ],
      "metadata": {
        "id": "5fG_mGnzEfeu"
      },
      "execution_count": 3,
      "outputs": []
    },
    {
      "cell_type": "code",
      "source": [
        "# Most frequent classifier\n",
        "dummy_clf = DummyClassifier(strategy=\"most_frequent\")\n",
        "dummy_clf.fit(X_train_balanced, y_train_balanced)\n",
        "\n",
        "# Predict on the test set\n",
        "y_pred_dummy = dummy_clf.predict(X_test)\n",
        "\n",
        "# Evaluate the most frequent classifier\n",
        "dummy_metrics = {\n",
        "    \"Accuracy\": accuracy_score(y_test, y_pred_dummy),\n",
        "    \"Precision\": precision_score(y_test, y_pred_dummy, average='weighted', zero_division=0),\n",
        "    \"Recall\": recall_score(y_test, y_pred_dummy, average='weighted', zero_division=0),\n",
        "    \"F1 Score\": f1_score(y_test, y_pred_dummy, average='weighted', zero_division=0),\n",
        "    \"Confusion Matrix\": confusion_matrix(y_test, y_pred_dummy)\n",
        "}\n",
        "\n",
        "print(\"Most Frequent Classifier Metrics:\")\n",
        "for metric, value in dummy_metrics.items():\n",
        "    print(f\"{metric}: {value}\")\n",
        "\n",
        "print(\"\\nClassification Report:\\n\", classification_report(y_test, y_pred_dummy, zero_division=0))"
      ],
      "metadata": {
        "colab": {
          "base_uri": "https://localhost:8080/"
        },
        "id": "O5mMX5yNEjnt",
        "outputId": "ad8b128d-6b25-4ba8-c486-bfe1d28614e3"
      },
      "execution_count": 4,
      "outputs": [
        {
          "output_type": "stream",
          "name": "stdout",
          "text": [
            "Most Frequent Classifier Metrics:\n",
            "Accuracy: 0.0010600458501759294\n",
            "Precision: 1.123697204475209e-06\n",
            "Recall: 0.0010600458501759294\n",
            "F1 Score: 2.2450145905501202e-06\n",
            "Confusion Matrix: [[   332      0      0      0      0      0      0      0      0      0\n",
            "       0      0      0      0]\n",
            " [  5466      0      0      0      0      0      0      0      0      0\n",
            "       0      0      0      0]\n",
            " [  2795      0      0      0      0      0      0      0      0      0\n",
            "       0      0      0      0]\n",
            " [ 19182      0      0      0      0      0      0      0      0      0\n",
            "       0      0      0      0]\n",
            " [109624      0      0      0      0      0      0      0      0      0\n",
            "       0      0      0      0]\n",
            " [  5973      0      0      0      0      0      0      0      0      0\n",
            "       0      0      0      0]\n",
            " [    81      0      0      0      0      0      0      0      0      0\n",
            "       0      0      0      0]\n",
            " [ 14880      0      0      0      0      0      0      0      0      0\n",
            "       0      0      0      0]\n",
            " [   454      0      0      0      0      0      0      0      0      0\n",
            "       0      0      0      0]\n",
            " [ 48669      0      0      0      0      0      0      0      0      0\n",
            "       0      0      0      0]\n",
            " [102944      0      0      0      0      0      0      0      0      0\n",
            "       0      0      0      0]\n",
            " [  1082      0      0      0      0      0      0      0      0      0\n",
            "       0      0      0      0]\n",
            " [  1672      0      0      0      0      0      0      0      0      0\n",
            "       0      0      0      0]\n",
            " [    40      0      0      0      0      0      0      0      0      0\n",
            "       0      0      0      0]]\n",
            "\n",
            "Classification Report:\n",
            "               precision    recall  f1-score   support\n",
            "\n",
            "           0       0.00      1.00      0.00       332\n",
            "           1       0.00      0.00      0.00      5466\n",
            "           2       0.00      0.00      0.00      2795\n",
            "           3       0.00      0.00      0.00     19182\n",
            "           4       0.00      0.00      0.00    109624\n",
            "           5       0.00      0.00      0.00      5973\n",
            "           6       0.00      0.00      0.00        81\n",
            "           7       0.00      0.00      0.00     14880\n",
            "           8       0.00      0.00      0.00       454\n",
            "           9       0.00      0.00      0.00     48669\n",
            "          10       0.00      0.00      0.00    102944\n",
            "          11       0.00      0.00      0.00      1082\n",
            "          12       0.00      0.00      0.00      1672\n",
            "          13       0.00      0.00      0.00        40\n",
            "\n",
            "    accuracy                           0.00    313194\n",
            "   macro avg       0.00      0.07      0.00    313194\n",
            "weighted avg       0.00      0.00      0.00    313194\n",
            "\n"
          ]
        }
      ]
    },
    {
      "cell_type": "code",
      "source": [
        "# Simple Decision Tree Classifier\n",
        "dt_model = DecisionTreeClassifier(random_state=42)\n",
        "dt_model.fit(X_train_balanced, y_train_balanced)\n",
        "\n",
        "# Predict on the test set\n",
        "y_pred_dt = dt_model.predict(X_test)\n",
        "\n",
        "# Evaluate the Decision Tree model\n",
        "dt_metrics = {\n",
        "    \"Accuracy\": accuracy_score(y_test, y_pred_dt),\n",
        "    \"Precision\": precision_score(y_test, y_pred_dt, average='weighted', zero_division=0),\n",
        "    \"Recall\": recall_score(y_test, y_pred_dt, average='weighted', zero_division=0),\n",
        "    \"F1 Score\": f1_score(y_test, y_pred_dt, average='weighted', zero_division=0),\n",
        "    \"Confusion Matrix\": confusion_matrix(y_test, y_pred_dt)\n",
        "}\n",
        "\n",
        "print(\"Decision Tree Classifier Metrics:\")\n",
        "for metric, value in dt_metrics.items():\n",
        "    print(f\"{metric}: {value}\")\n",
        "\n",
        "print(\"\\nClassification Report:\\n\", classification_report(y_test, y_pred_dt, zero_division=0))"
      ],
      "metadata": {
        "colab": {
          "base_uri": "https://localhost:8080/"
        },
        "id": "4_Skhh5sEnUI",
        "outputId": "3d3edb50-8bc4-42cd-f804-9e21598f2165"
      },
      "execution_count": 5,
      "outputs": [
        {
          "output_type": "stream",
          "name": "stdout",
          "text": [
            "Decision Tree Classifier Metrics:\n",
            "Accuracy: 0.04342356494696578\n",
            "Precision: 0.2795425592375389\n",
            "Recall: 0.04342356494696578\n",
            "F1 Score: 0.04839160386162438\n",
            "Confusion Matrix: [[   11    33    23    19     7    44    11    27    13     2     4    47\n",
            "     82     9]\n",
            " [  211  1014   305   152   430  1825    22   244   212    40    20   544\n",
            "    338   109]\n",
            " [   83   359   331   186   126   351    55   237   155   101    28   311\n",
            "    452    20]\n",
            " [  470  1583  1200  1584   486  3188   588  2245   704   327   114  2599\n",
            "   3956   138]\n",
            " [ 2281  9765  8804  7045  4414 15720  4034  9979  4748  2429  1029 14071\n",
            "  24748   557]\n",
            " [   85  1144   295   235   543  2294    37   237   168    55    13   348\n",
            "    416   103]\n",
            " [    1    12     4     5     3    10     1     3     3     4     1     9\n",
            "     25     0]\n",
            " [  352  1484  1108   963   537  2416   549  1393   613   378   122  1948\n",
            "   2877   140]\n",
            " [   16    37    39    20    13   101     7    41    21    18     6    51\n",
            "     78     6]\n",
            " [ 1195  4915  4027  3145  1573  8238  1122  4801  2077  1137   458  6042\n",
            "   9671   268]\n",
            " [ 2940 10078  7915  6823  3412 17624  2528 10012  4193  2193   942 13172\n",
            "  20384   728]\n",
            " [   19    87    73    57    33   237    38    92    44    25     7   130\n",
            "    234     6]\n",
            " [   44   156   155   103    70   268    41   144    71    33    18   229\n",
            "    326    14]\n",
            " [    0     5     5     1     1     9     0     6     2     0     0     6\n",
            "      3     2]]\n",
            "\n",
            "Classification Report:\n",
            "               precision    recall  f1-score   support\n",
            "\n",
            "           0       0.00      0.03      0.00       332\n",
            "           1       0.03      0.19      0.06      5466\n",
            "           2       0.01      0.12      0.02      2795\n",
            "           3       0.08      0.08      0.08     19182\n",
            "           4       0.38      0.04      0.07    109624\n",
            "           5       0.04      0.38      0.08      5973\n",
            "           6       0.00      0.01      0.00        81\n",
            "           7       0.05      0.09      0.06     14880\n",
            "           8       0.00      0.05      0.00       454\n",
            "           9       0.17      0.02      0.04     48669\n",
            "          10       0.34      0.01      0.02    102944\n",
            "          11       0.00      0.12      0.01      1082\n",
            "          12       0.01      0.19      0.01      1672\n",
            "          13       0.00      0.05      0.00        40\n",
            "\n",
            "    accuracy                           0.04    313194\n",
            "   macro avg       0.08      0.10      0.03    313194\n",
            "weighted avg       0.28      0.04      0.05    313194\n",
            "\n"
          ]
        }
      ]
    }
  ]
}