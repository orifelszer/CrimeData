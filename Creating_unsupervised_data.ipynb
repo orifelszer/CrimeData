{
  "nbformat": 4,
  "nbformat_minor": 0,
  "metadata": {
    "colab": {
      "provenance": []
    },
    "kernelspec": {
      "name": "python3",
      "display_name": "Python 3"
    },
    "language_info": {
      "name": "python"
    }
  },
  "cells": [
    {
      "cell_type": "markdown",
      "source": [
        "Importing Required Libraries"
      ],
      "metadata": {
        "id": "d2nMBx3dcwjj"
      }
    },
    {
      "cell_type": "code",
      "source": [
        "import glob\n",
        "import pandas as pd\n",
        "from sklearn.model_selection import train_test_split\n",
        "from sklearn.preprocessing import LabelEncoder"
      ],
      "metadata": {
        "id": "iY23eswYQBHB"
      },
      "execution_count": 1,
      "outputs": []
    },
    {
      "cell_type": "markdown",
      "source": [
        "Downloading and Importing Preprocessing Function"
      ],
      "metadata": {
        "id": "XI2GYq8cczTb"
      }
    },
    {
      "cell_type": "code",
      "source": [
        "!wget -O Prepare_unsupervised_data_functions.py \"https://raw.githubusercontent.com/orifelszer/CrimeData/refs/heads/main/Prepare_unsupervised_data_functions.py\"\n",
        "from Prepare_unsupervised_data_functions import Preprocessing"
      ],
      "metadata": {
        "id": "y_NbyWeMxuYY",
        "outputId": "deb8bba6-3426-4c72-c98a-8ed6798043d1",
        "colab": {
          "base_uri": "https://localhost:8080/"
        }
      },
      "execution_count": 2,
      "outputs": [
        {
          "output_type": "stream",
          "name": "stdout",
          "text": [
            "--2025-01-11 13:50:47--  https://raw.githubusercontent.com/orifelszer/CrimeData/refs/heads/main/Prepare_unsupervised_data_functions.py\n",
            "Resolving raw.githubusercontent.com (raw.githubusercontent.com)... 185.199.108.133, 185.199.109.133, 185.199.110.133, ...\n",
            "Connecting to raw.githubusercontent.com (raw.githubusercontent.com)|185.199.108.133|:443... connected.\n",
            "HTTP request sent, awaiting response... 200 OK\n",
            "Length: 7816 (7.6K) [text/plain]\n",
            "Saving to: ‘Prepare_unsupervised_data_functions.py’\n",
            "\n",
            "Prepare_unsupervise 100%[===================>]   7.63K  --.-KB/s    in 0s      \n",
            "\n",
            "2025-01-11 13:50:47 (48.4 MB/s) - ‘Prepare_unsupervised_data_functions.py’ saved [7816/7816]\n",
            "\n"
          ]
        }
      ]
    },
    {
      "cell_type": "markdown",
      "source": [
        "Define Paths to Crime Datasets (2019–2024)"
      ],
      "metadata": {
        "id": "HH7ESwFcOeWK"
      }
    },
    {
      "cell_type": "code",
      "source": [
        "# === Downloading and Extracting Crime Data Files ===\n",
        "import os\n",
        "import zipfile\n",
        "\n",
        "!git clone https://github.com/orifelszer/CrimeData.git\n",
        "\n",
        "zip_folder = 'CrimeData'\n",
        "# Extracting only ZIP files for the years 2019 to 2024\n",
        "zip_files = [f for f in os.listdir(zip_folder) if f.startswith('crimes') and any(str(year) in f for year in range(2019, 2025))]\n",
        "\n",
        "# Unzipping files and saving the new folder paths\n",
        "extracted_folders = []\n",
        "\n",
        "for zip_file in zip_files:\n",
        "    zip_path = os.path.join(zip_folder, zip_file)\n",
        "    extract_path = os.path.join(zip_folder, zip_file.replace('.zip', ''))\n",
        "    with zipfile.ZipFile(zip_path, 'r') as zip_ref:\n",
        "        zip_ref.extractall(extract_path)\n",
        "    extracted_folders.append(extract_path)\n",
        "    print(f\"Extracted: {zip_file} -> {extract_path}\")\n"
      ],
      "metadata": {
        "colab": {
          "base_uri": "https://localhost:8080/"
        },
        "id": "jNxHCYGhOb6y",
        "outputId": "13677c05-430d-40a0-f587-9f41d17aa26d"
      },
      "execution_count": 3,
      "outputs": [
        {
          "output_type": "stream",
          "name": "stdout",
          "text": [
            "Cloning into 'CrimeData'...\n",
            "remote: Enumerating objects: 728, done.\u001b[K\n",
            "remote: Counting objects: 100% (255/255), done.\u001b[K\n",
            "remote: Compressing objects: 100% (155/155), done.\u001b[K\n",
            "remote: Total 728 (delta 193), reused 100 (delta 100), pack-reused 473 (from 3)\u001b[K\n",
            "Receiving objects: 100% (728/728), 243.97 MiB | 27.92 MiB/s, done.\n",
            "Resolving deltas: 100% (372/372), done.\n",
            "Extracted: crimes2020.zip -> CrimeData/crimes2020\n",
            "Extracted: crimes2023.zip -> CrimeData/crimes2023\n",
            "Extracted: crimes2024.zip -> CrimeData/crimes2024\n",
            "Extracted: crimes2019.zip -> CrimeData/crimes2019\n",
            "Extracted: crimes2021.zip -> CrimeData/crimes2021\n",
            "Extracted: crimes2022.zip -> CrimeData/crimes2022\n"
          ]
        }
      ]
    },
    {
      "cell_type": "markdown",
      "source": [
        "Load Crime Data into Pandas DataFrames"
      ],
      "metadata": {
        "id": "FdI-ivysOl8Q"
      }
    },
    {
      "cell_type": "code",
      "source": [
        "csv_files = []\n",
        "for folder in extracted_folders:\n",
        "    csv_files += glob.glob(os.path.join(folder, \"*.csv\"))\n",
        "\n",
        "dataframes = {f\"Crimes_{file[-8:-4]}\": pd.read_csv(file) for file in csv_files}\n",
        "combined_data = pd.concat(dataframes.values(), axis=0, ignore_index=True)"
      ],
      "metadata": {
        "id": "sLByLu1aOi9B"
      },
      "execution_count": 4,
      "outputs": []
    },
    {
      "cell_type": "markdown",
      "source": [
        "Applying Preprocessing Function"
      ],
      "metadata": {
        "id": "n_Gf7TMOdZS-"
      }
    },
    {
      "cell_type": "code",
      "source": [
        "Clean_data = Preprocessing(combined_data)"
      ],
      "metadata": {
        "id": "YR5tVPbcnVbD",
        "outputId": "740cd02f-737d-42ca-de98-c556499f68b3",
        "colab": {
          "base_uri": "https://localhost:8080/"
        }
      },
      "execution_count": 5,
      "outputs": [
        {
          "output_type": "stream",
          "name": "stderr",
          "text": [
            "/content/Prepare_unsupervised_data_functions.py:61: FutureWarning: Downcasting object dtype arrays on .fillna, .ffill, .bfill is deprecated and will change in a future version. Call result.infer_objects(copy=False) instead. To opt-in to the future behavior, set `pd.set_option('future.no_silent_downcasting', True)`\n",
            "  lambda x: x.fillna(fill_statistic_area_random(x)).infer_objects(copy=False))\n"
          ]
        }
      ]
    },
    {
      "cell_type": "markdown",
      "source": [
        "Saving the Cleaned Dataset for Unsupervised Learning"
      ],
      "metadata": {
        "id": "eMNXmT2wdmcC"
      }
    },
    {
      "cell_type": "code",
      "source": [
        "# === Splitting the Cleaned Dataset into Two Separate Files Due to Large File Size ===\n",
        "split_index = len(Clean_data) // 2\n",
        "Clean_data_part1 = Clean_data.iloc[:split_index]\n",
        "Clean_data_part2 = Clean_data.iloc[split_index:]\n",
        "\n",
        "# Saving the datasets as two separate CSV files\n",
        "Clean_data_part1.to_csv('Clean_data_unsupervised_part1.csv', index=False)\n",
        "Clean_data_part2.to_csv('Clean_data_unsupervised_part2.csv', index=False)"
      ],
      "metadata": {
        "id": "u2WiIdnETJFd"
      },
      "execution_count": 7,
      "outputs": []
    }
  ]
}