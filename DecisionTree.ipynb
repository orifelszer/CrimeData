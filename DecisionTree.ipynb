{
  "nbformat": 4,
  "nbformat_minor": 0,
  "metadata": {
    "colab": {
      "provenance": [],
      "authorship_tag": "ABX9TyP4RZHYJpbP5QZ0JeQZjHMJ",
      "include_colab_link": true
    },
    "kernelspec": {
      "name": "python3",
      "display_name": "Python 3"
    },
    "language_info": {
      "name": "python"
    }
  },
  "cells": [
    {
      "cell_type": "markdown",
      "metadata": {
        "id": "view-in-github",
        "colab_type": "text"
      },
      "source": [
        "<a href=\"https://colab.research.google.com/github/orifelszer/CrimeData/blob/oriana-branch/DecisionTree.ipynb\" target=\"_parent\"><img src=\"https://colab.research.google.com/assets/colab-badge.svg\" alt=\"Open In Colab\"/></a>"
      ]
    },
    {
      "cell_type": "markdown",
      "source": [
        "*In this notebook, we implement a Decision Tree Classifier to predict crime categories based on the provided features. We will handle data preprocessing, address class imbalance using SMOTE, and evaluate the model using various metrics such as accuracy and classification reports*\n",
        "\n"
      ],
      "metadata": {
        "id": "ue7RMsKwYleU"
      }
    },
    {
      "cell_type": "code",
      "execution_count": 10,
      "metadata": {
        "id": "ZCdLmrOBxufB"
      },
      "outputs": [],
      "source": [
        "#!pip install imbalanced-learn\n",
        "import pandas as pd\n",
        "import zipfile\n",
        "import requests\n",
        "from io import BytesIO\n",
        "from sklearn.tree import DecisionTreeClassifier\n",
        "from sklearn.metrics import accuracy_score, classification_report, confusion_matrix\n",
        "from sklearn.exceptions import UndefinedMetricWarning\n",
        "from imblearn.over_sampling import SMOTE\n",
        "from sklearn.model_selection import GridSearchCV\n",
        "import warnings\n",
        "warnings.filterwarnings(\"ignore\", category=FutureWarning)\n",
        "warnings.filterwarnings(\"ignore\", category=DeprecationWarning)\n",
        "warnings.filterwarnings(\"ignore\")\n",
        "warnings.filterwarnings(\"ignore\", category=UndefinedMetricWarning)\n",
        "\n",
        "\n"
      ]
    },
    {
      "cell_type": "markdown",
      "source": [
        "We load the training and testing datasets directly from the GitHub repository. Each dataset is stored in a compressed `.zip` format and is extracted programmatically."
      ],
      "metadata": {
        "id": "OY-FpI3eY7rT"
      }
    },
    {
      "cell_type": "code",
      "source": [
        "# Base URL for your GitHub repository\n",
        "base_url = \"https://github.com/orifelszer/CrimeData/raw/main/\"\n",
        "\n",
        "# File names\n",
        "files = {\n",
        "    \"X_train\": \"X_train_supervised.zip\",\n",
        "    \"X_test\": \"X_test_supervised.zip\",\n",
        "    \"y_train\": \"y_train_supervised.zip\",\n",
        "    \"y_test\": \"y_test_supervised.zip\"\n",
        "}\n",
        "\n"
      ],
      "metadata": {
        "id": "SBdY6VizJLjd"
      },
      "execution_count": 2,
      "outputs": []
    },
    {
      "cell_type": "code",
      "source": [
        "# Function to read zip files from the repository\n",
        "def load_data_from_repo(file_name):\n",
        "    url = base_url + file_name\n",
        "    response = requests.get(url)\n",
        "    if response.status_code == 200:\n",
        "        with zipfile.ZipFile(BytesIO(response.content)) as z:\n",
        "            # Assuming there's only one file in each zip\n",
        "            extracted_file_name = z.namelist()[0]\n",
        "            with z.open(extracted_file_name) as f:\n",
        "                return pd.read_csv(f)\n",
        "    else:\n",
        "        raise Exception(f\"Failed to download {file_name}\")\n",
        "\n"
      ],
      "metadata": {
        "id": "jn3dLWHxJNxx"
      },
      "execution_count": 3,
      "outputs": []
    },
    {
      "cell_type": "code",
      "source": [
        "# Load datasets\n",
        "X_train = load_data_from_repo(files[\"X_train\"])\n",
        "X_test = load_data_from_repo(files[\"X_test\"])\n",
        "y_train = load_data_from_repo(files[\"y_train\"]).values.ravel()\n",
        "y_test = load_data_from_repo(files[\"y_test\"]).values.ravel()\n",
        "\n",
        "\n"
      ],
      "metadata": {
        "id": "hbFXoDoYJP24"
      },
      "execution_count": 4,
      "outputs": []
    },
    {
      "cell_type": "markdown",
      "source": [
        "The target labels in the dataset are imbalanced, meaning some crime categories are significantly underrepresented. To address this issue, we use the **Synthetic Minority Oversampling Technique (SMOTE)**, which generates synthetic examples for minority classes to balance the dataset.\n"
      ],
      "metadata": {
        "id": "CxIaMYXRZC8g"
      }
    },
    {
      "cell_type": "code",
      "source": [
        "# Handle imbalanced data using SMOTE\n",
        "smote = SMOTE(random_state=42)\n",
        "X_train_balanced, y_train_balanced = smote.fit_resample(X_train, y_train)\n",
        "\n"
      ],
      "metadata": {
        "id": "dTM38aZpLB4m"
      },
      "execution_count": 5,
      "outputs": []
    },
    {
      "cell_type": "markdown",
      "source": [
        "We implement a Decision Tree Classifier with the following parameters:\n",
        "- `class_weight='balanced'`: Adjusts weights inversely proportional to class frequencies to handle imbalance.\n",
        "- `random_state=42`: Ensures reproducibility of results.\n",
        "\n",
        "Additionally, we prepare a basic model and provide a commented-out grid search implementation to explore hyperparameter optimization."
      ],
      "metadata": {
        "id": "H-FAKmq1ZYKg"
      }
    },
    {
      "cell_type": "code",
      "source": [
        "# Define the Decision Tree Classifier with class weights\n",
        "base_model = DecisionTreeClassifier(class_weight='balanced', random_state=42)"
      ],
      "metadata": {
        "id": "BRlWPaxQZRik"
      },
      "execution_count": 23,
      "outputs": []
    },
    {
      "cell_type": "code",
      "source": [
        "from sklearn.model_selection import GridSearchCV\n",
        "\n",
        "# Define hyperparameter grid\n",
        "param_grid = {\n",
        "    'max_depth': [10],\n",
        "    'min_samples_split': [10],\n",
        "    'min_samples_leaf': [5],\n",
        "    'criterion': ['gini']\n",
        "}\n",
        "\n",
        "# Initialize GridSearchCV\n",
        "grid_search = GridSearchCV(\n",
        "    estimator=DecisionTreeClassifier(random_state=42),\n",
        "    param_grid=param_grid,\n",
        "    cv=3,  # 3-fold cross-validation\n",
        "    scoring='accuracy',\n",
        "    verbose=1\n",
        ")\n",
        "\n",
        "# Fit GridSearchCV\n",
        "grid_search.fit(X_train, y_train)\n",
        "\n",
        "# Get the best parameters and score\n",
        "print(\"Best Parameters:\", grid_search.best_params_)\n",
        "print(\"Best Cross-Validation Score:\", grid_search.best_score_)\n"
      ],
      "metadata": {
        "id": "ngRIVsnHdc9s",
        "outputId": "730767eb-121f-403c-8b06-a38a7a1e359a",
        "colab": {
          "base_uri": "https://localhost:8080/"
        }
      },
      "execution_count": 24,
      "outputs": [
        {
          "output_type": "stream",
          "name": "stdout",
          "text": [
            "Fitting 3 folds for each of 1 candidates, totalling 3 fits\n",
            "Best Parameters: {'criterion': 'gini', 'max_depth': 10, 'min_samples_leaf': 5, 'min_samples_split': 10}\n",
            "Best Cross-Validation Score: 0.4137104895171644\n"
          ]
        }
      ]
    },
    {
      "cell_type": "markdown",
      "source": [
        "\n",
        "The model performed better during cross-validation with an average accuracy 41.37% of , likely because it saw more balanced or familiar patterns from the training data."
      ],
      "metadata": {
        "id": "4ky3KXcTjdCm"
      }
    },
    {
      "cell_type": "code",
      "source": [
        "from sklearn.metrics import classification_report, accuracy_score\n",
        "\n",
        "# Predict on the test set using the best estimator from GridSearchCV\n",
        "y_pred = grid_search.best_estimator_.predict(X_test)\n",
        "\n",
        "# Calculate accuracy\n",
        "accuracy = accuracy_score(y_test, y_pred)\n",
        "print(f\"Accuracy: {accuracy * 100:.2f}%\")\n",
        "\n",
        "# Generate and print classification report\n",
        "classification_report_output = classification_report(y_test, y_pred, zero_division=0)\n",
        "print(\"\\nClassification Report:\\n\", classification_report_output)\n"
      ],
      "metadata": {
        "id": "7dc21YFZijhs",
        "outputId": "b4a793c4-f2d5-43ac-fd8c-d66ea08d2ad0",
        "colab": {
          "base_uri": "https://localhost:8080/"
        }
      },
      "execution_count": 25,
      "outputs": [
        {
          "output_type": "stream",
          "name": "stdout",
          "text": [
            "Accuracy: 35.97%\n",
            "\n",
            "Classification Report:\n",
            "               precision    recall  f1-score   support\n",
            "\n",
            "           0       0.00      0.00      0.00       366\n",
            "           1       0.46      0.10      0.16      7408\n",
            "           2       0.00      0.00      0.00      3288\n",
            "           3       0.16      0.00      0.01     23317\n",
            "           4       0.37      0.61      0.46    126443\n",
            "           5       0.18      0.10      0.13      6912\n",
            "           6       0.00      0.00      0.00       126\n",
            "           7       0.14      0.00      0.00     17566\n",
            "           8       0.00      0.00      0.00       625\n",
            "           9       0.19      0.03      0.05     59252\n",
            "          10       0.36      0.43      0.39    128157\n",
            "          11       0.00      0.00      0.00      1377\n",
            "          12       0.00      0.00      0.00      2074\n",
            "          13       0.00      0.00      0.00        60\n",
            "\n",
            "    accuracy                           0.36    376971\n",
            "   macro avg       0.13      0.09      0.09    376971\n",
            "weighted avg       0.31      0.36      0.30    376971\n",
            "\n"
          ]
        }
      ]
    },
    {
      "cell_type": "markdown",
      "source": [
        "This means the model correctly predicted 35.97% of samples in the test set.\n",
        "The model performed worse on the test set, which indicates it struggles to generalize to unseen data.\n",
        "The gap between cross-validation accuracy and test accuracy reflects the model's ability to generalize. A smaller gap indicates better generalization, while a larger gap suggests overfitting or challenges in adapting to new data."
      ],
      "metadata": {
        "id": "dJHUFP0fjgDz"
      }
    },
    {
      "cell_type": "code",
      "source": [
        "from sklearn.model_selection import learning_curve\n",
        "import numpy as np\n",
        "\n",
        "train_sizes, train_scores, test_scores = learning_curve(\n",
        "    grid_search.best_estimator_, X_train, y_train, cv=3, scoring=\"accuracy\", train_sizes=np.linspace(0.1, 1.0, 10)\n",
        ")\n",
        "\n",
        "train_mean = train_scores.mean(axis=1)\n",
        "test_mean = test_scores.mean(axis=1)\n",
        "\n",
        "plt.plot(train_sizes, train_mean, label=\"Training Accuracy\")\n",
        "plt.plot(train_sizes, test_mean, label=\"Validation Accuracy\")\n",
        "plt.xlabel(\"Training Set Size\")\n",
        "plt.ylabel(\"Accuracy\")\n",
        "plt.title(\"Learning Curve\")\n",
        "plt.legend()\n",
        "plt.show()\n"
      ],
      "metadata": {
        "id": "R0sklk3WnKYS",
        "outputId": "413934fa-abca-4b0d-eb60-21bfd5467a08",
        "colab": {
          "base_uri": "https://localhost:8080/",
          "height": 472
        }
      },
      "execution_count": 30,
      "outputs": [
        {
          "output_type": "display_data",
          "data": {
            "text/plain": [
              "<Figure size 640x480 with 1 Axes>"
            ],
            "image/png": "[encoded data removed]"
          },
          "metadata": {}
        }
      ]
    },
    {
      "cell_type": "markdown",
      "source": [
        "The learning curve plots training accuracy and validation accuracy as the training set size increases.\n",
        "Helps diagnose overfitting or underfitting.\n",
        "\n",
        "\n",
        "Both training and validation accuracy are converging at 41%.\n",
        "The model does not improve significantly with more data, indicating it may have reached its capacity or is limited by the features.\n"
      ],
      "metadata": {
        "id": "fzGLxPY0oKY5"
      }
    }
  ]
}