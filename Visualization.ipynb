{
  "nbformat": 4,
  "nbformat_minor": 0,
  "metadata": {
    "colab": {
      "provenance": [],
      "authorship_tag": "ABX9TyO90sLLgsZmadSPHm5UtZlF",
      "include_colab_link": true
    },
    "kernelspec": {
      "name": "python3",
      "display_name": "Python 3"
    },
    "language_info": {
      "name": "python"
    }
  },
  "cells": [
    {
      "cell_type": "markdown",
      "metadata": {
        "id": "view-in-github",
        "colab_type": "text"
      },
      "source": [
        "<a href=\"https://colab.research.google.com/github/orifelszer/CrimeData/blob/eden-branch/Visualization.ipynb\" target=\"_parent\"><img src=\"https://colab.research.google.com/assets/colab-badge.svg\" alt=\"Open In Colab\"/></a>"
      ]
    },
    {
      "cell_type": "code",
      "execution_count": null,
      "metadata": {
        "id": "RU5czjm92CPw"
      },
      "outputs": [],
      "source": [
        "!git clone https://github.com/orifelszer/CrimeData.git\n",
        "\n",
        "import os\n",
        "import zipfile\n",
        "\n",
        "zip_folder = 'CrimeData'\n",
        "\n",
        "zip_files = [f for f in os.listdir(zip_folder) if f.endswith('.zip')]\n",
        "\n",
        "for zip_file in zip_files:\n",
        "    zip_path = os.path.join(zip_folder, zip_file)\n",
        "    extract_path = os.path.join(zip_folder, zip_file.replace('.zip', ''))\n",
        "\n",
        "    with zipfile.ZipFile(zip_path, 'r') as zip_ref:\n",
        "        zip_ref.extractall(extract_path)\n",
        "    print(f\"Extracted: {zip_file} -> {extract_path}\")"
      ]
    },
    {
      "cell_type": "code",
      "source": [
        "csv_files = glob.glob(\"CrimeData/**/*.csv\", recursive=True)\n",
        "dataframes = {f\"Crimes_{file[-8:-4]}\": pd.read_csv(file) for file in csv_files}"
      ],
      "metadata": {
        "id": "Cb6bttci2Koj"
      },
      "execution_count": null,
      "outputs": []
    },
    {
      "cell_type": "code",
      "source": [
        "dataframes['Crimes_2019'].head()"
      ],
      "metadata": {
        "id": "nnLSnHBF2QAJ"
      },
      "execution_count": null,
      "outputs": []
    },
    {
      "cell_type": "code",
      "source": [
        "combined_data = pd.concat(dataframes, axis=0, ignore_index=True)\n",
        "combined_data"
      ],
      "metadata": {
        "id": "RWd7YBcx2SwC"
      },
      "execution_count": null,
      "outputs": []
    },
    {
      "cell_type": "code",
      "source": [
        "# מבנה הנתונים\n",
        "combined_data.info()"
      ],
      "metadata": {
        "id": "8hSx5Zyi2fBU"
      },
      "execution_count": null,
      "outputs": []
    },
    {
      "cell_type": "code",
      "source": [
        "# בדיקת הערכים החסרים\n",
        "missing_values = combined_data.isnull().sum()\n",
        "print(\"Missing Values:\\n\", missing_values)"
      ],
      "metadata": {
        "id": "Ksg2YlTr2Voe"
      },
      "execution_count": null,
      "outputs": []
    },
    {
      "cell_type": "code",
      "source": [
        "# תיאור סטטיסטי של הנתונים\n",
        "combined_data.describe()"
      ],
      "metadata": {
        "id": "np9nLEg12idg"
      },
      "execution_count": null,
      "outputs": []
    },
    {
      "cell_type": "code",
      "source": [
        "# התפלגות משתנים מספריים\n",
        "numeric_features = combined_data.select_dtypes(include=['int64', 'float64']).columns\n",
        "\n",
        "# יצירת היסטוגרמות\n",
        "combined_data[numeric_features].hist(bins=15, figsize=(15, 10))\n",
        "plt.suptitle(\"Histograms of Numeric Features\")\n",
        "plt.show()\n",
        "\n",
        "# זיהוי חריגים עם Boxplot\n",
        "plt.figure(figsize=(15, 5))\n",
        "for i, col in enumerate(numeric_features):\n",
        "    plt.subplot(1, len(numeric_features), i + 1)\n",
        "    sns.boxplot(y=combined_data[col])\n",
        "    plt.title(col)\n",
        "plt.tight_layout()\n",
        "plt.show()\n",
        "\n",
        "plt.close()"
      ],
      "metadata": {
        "id": "janj2pJv2nCP"
      },
      "execution_count": null,
      "outputs": []
    },
    {
      "cell_type": "code",
      "source": [
        "# התקנת פונט עברי בגוגל קולאב\n",
        "!apt-get install -y fonts-freefont-ttf\n",
        "\n",
        "# Reverse Hebrew text for the 'StatisticType' column\n",
        "def reverse_hebrew_text(text):\n",
        "    return text[::-1] if isinstance(text, str) else text  # Reverse strings only\n",
        "\n",
        "# Find the top N StatisticType categories by count\n",
        "top_N = 10  # Adjust N as needed\n",
        "top_types = combined_data['StatisticGroup'].value_counts().head(top_N).index\n",
        "\n",
        "# Filter the DataFrame to include only these top categories\n",
        "filtered_df = combined_data[combined_data['StatisticGroup'].isin(top_types)].copy()\n",
        "\n",
        "# Apply the reverse function only to the 'StatisticType' column\n",
        "filtered_df['StatisticGroup'] = filtered_df['StatisticGroup'].apply(reverse_hebrew_text)\n",
        "\n",
        "# Group data by quarter and StatisticType\n",
        "crime_grouped = filtered_df.groupby(['Quarter', 'StatisticGroup']).size().reset_index(name='count')\n",
        "\n",
        "# Plot the data\n",
        "import matplotlib.pyplot as plt\n",
        "plt.rcParams['font.family'] = 'DejaVu Sans'\n",
        "\n",
        "plt.figure(figsize=(12, 7))\n",
        "sns.barplot(data=crime_grouped, x='Quarter', y='count', hue='StatisticGroup', palette='tab20')\n",
        "\n",
        "# Add labels and titles\n",
        "plt.xlabel('Quarter')\n",
        "plt.ylabel('Number of Crimes')\n",
        "plt.title(f'Top {top_N} StatisticGroup per Quarter')\n",
        "plt.legend(title='StatisticGroup', bbox_to_anchor=(1.05, 1), loc='upper left')\n",
        "plt.tight_layout()\n",
        "plt.show()\n",
        "\n",
        "plt.close()\n"
      ],
      "metadata": {
        "id": "u_AKHzlv3JSe"
      },
      "execution_count": null,
      "outputs": []
    },
    {
      "cell_type": "code",
      "source": [
        "# זיהוי קטגוריות נדירות עבור StatisticGroup\n",
        "rare_statistic_group = combined_data['StatisticGroup'].value_counts()\n",
        "rare_statistic_group = rare_statistic_group[rare_statistic_group < 10]  # פחות מ-10 שורות\n",
        "\n",
        "print(\"Rare categories in StatisticGroup:\\n\", rare_statistic_group)"
      ],
      "metadata": {
        "id": "YW7uY6e64Pen"
      },
      "execution_count": null,
      "outputs": []
    }
  ]
}