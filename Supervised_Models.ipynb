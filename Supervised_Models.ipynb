{
  "cells": [
    {
      "cell_type": "markdown",
      "metadata": {
        "id": "view-in-github",
        "colab_type": "text"
      },
      "source": [
        "<a href=\"https://colab.research.google.com/github/orifelszer/CrimeData/blob/eden-branch/Supervised_Models.ipynb\" target=\"_parent\"><img src=\"https://colab.research.google.com/assets/colab-badge.svg\" alt=\"Open In Colab\"/></a>"
      ]
    },
    {
      "cell_type": "markdown",
      "id": "08868476-f47e-44ea-ae64-4905970e7172",
      "metadata": {
        "id": "08868476-f47e-44ea-ae64-4905970e7172"
      },
      "source": [
        "# Crimes Data in Israel (2019-2024)"
      ]
    },
    {
      "cell_type": "markdown",
      "id": "e99d3ace-5ef2-4b99-9025-d00c12fe818b",
      "metadata": {
        "id": "e99d3ace-5ef2-4b99-9025-d00c12fe818b"
      },
      "source": [
        "#### by: Eden Shmuel, Oriana Feltzer"
      ]
    },
    {
      "cell_type": "markdown",
      "id": "642a9286-f6ea-4f53-834f-311bbf374fca",
      "metadata": {
        "id": "642a9286-f6ea-4f53-834f-311bbf374fca"
      },
      "source": [
        "***"
      ]
    },
    {
      "cell_type": "markdown",
      "id": "89aa6340-bd9e-4804-8cd9-c31b764cf0d4",
      "metadata": {
        "id": "89aa6340-bd9e-4804-8cd9-c31b764cf0d4"
      },
      "source": [
        "# Importing necessary libraries"
      ]
    },
    {
      "cell_type": "code",
      "execution_count": 1,
      "id": "9bcd36d6-c90e-480e-abcb-857b9d481c6b",
      "metadata": {
        "id": "9bcd36d6-c90e-480e-abcb-857b9d481c6b"
      },
      "outputs": [],
      "source": [
        "import numpy as np\n",
        "import matplotlib.pyplot as plt\n",
        "import pandas as pd\n",
        "import seaborn as sns\n",
        "from sklearn.model_selection import train_test_split\n",
        "from sklearn.preprocessing import OneHotEncoder\n",
        "from sklearn.preprocessing import MinMaxScaler\n",
        "import glob"
      ]
    },
    {
      "cell_type": "code",
      "source": [
        "import requests\n",
        "import zipfile\n",
        "import pandas as pd\n",
        "\n",
        "def download_and_read_csv_from_zip(url, csv_filename):\n",
        "    # הורדת הקובץ מהאינטרנט\n",
        "    response = requests.get(url)\n",
        "    zip_path = \"temp.zip\"  # שמירת הקובץ באופן זמני\n",
        "    with open(zip_path, \"wb\") as file:\n",
        "        file.write(response.content)\n",
        "\n",
        "    # פתיחת ה-ZIP וקריאת הקובץ\n",
        "    with zipfile.ZipFile(zip_path, 'r') as zip_ref:\n",
        "        with zip_ref.open(csv_filename) as file:\n",
        "            return pd.read_csv(file)\n",
        "\n",
        "# קריאת הקבצים מהמאגר (הורדה זמנית)\n",
        "X_train = download_and_read_csv_from_zip(\n",
        "    'https://github.com/orifelszer/CrimeData/raw/main/X_train.zip', 'X_train.csv')\n",
        "\n",
        "X_test = download_and_read_csv_from_zip(\n",
        "    'https://github.com/orifelszer/CrimeData/raw/main/X_test.zip', 'X_test.csv')\n",
        "\n",
        "y_train = download_and_read_csv_from_zip(\n",
        "    'https://github.com/orifelszer/CrimeData/raw/main/y_train.zip', 'y_train.csv').values.ravel()\n",
        "\n",
        "y_test = download_and_read_csv_from_zip(\n",
        "    'https://github.com/orifelszer/CrimeData/raw/main/y_test.zip', 'y_test.csv').values.ravel()\n",
        "\n",
        "print(\"הנתונים נטענו בהצלחה!\")\n",
        "\n"
      ],
      "metadata": {
        "id": "7egke8lqyvc9",
        "outputId": "9d148fab-9918-4755-f2f5-ac2f07d92d49",
        "colab": {
          "base_uri": "https://localhost:8080/"
        }
      },
      "id": "7egke8lqyvc9",
      "execution_count": 7,
      "outputs": [
        {
          "output_type": "stream",
          "name": "stdout",
          "text": [
            "הנתונים נטענו בהצלחה!\n"
          ]
        }
      ]
    },
    {
      "cell_type": "code",
      "source": [
        "# ייבוא הספריות הדרושות\n",
        "from sklearn.model_selection import cross_val_score\n",
        "from sklearn.linear_model import LogisticRegression\n",
        "from sklearn.metrics import accuracy_score, classification_report, confusion_matrix, ConfusionMatrixDisplay\n",
        "from sklearn.linear_model import LogisticRegression\n",
        "from sklearn.feature_selection import SelectKBest, chi2\n",
        "from sklearn.model_selection import StratifiedKFold, cross_val_score, GridSearchCV\n",
        "from sklearn.linear_model import SGDClassifier\n",
        "from sklearn.metrics import accuracy_score, precision_score, recall_score, f1_score\n",
        "from itertools import product\n",
        "from sklearn.ensemble import RandomForestClassifier"
      ],
      "metadata": {
        "id": "Y26X_AAnR8N5"
      },
      "id": "Y26X_AAnR8N5",
      "execution_count": 8,
      "outputs": []
    },
    {
      "cell_type": "code",
      "source": [
        "# בחירת התכונות על סמך הדגימה בלבד\n",
        "selector = SelectKBest(score_func=chi2, k=10)\n",
        "selector.fit(X_train, y_train)\n",
        "\n",
        "# החלת הבחירה על כל סט האימון והבדיקה\n",
        "X_train_selected = selector.transform(X_train)\n",
        "X_test_selected = selector.transform(X_test)"
      ],
      "metadata": {
        "id": "kKM1kM1yUjx2"
      },
      "id": "kKM1kM1yUjx2",
      "execution_count": 10,
      "outputs": []
    },
    {
      "cell_type": "code",
      "source": [
        "# 📈 מודל בסיסי ללא שיפורים (Baseline)\n",
        "sgd_model = SGDClassifier(loss='log_loss', class_weight='balanced', max_iter=100, random_state=42)\n",
        "sgd_model.fit(X_train_selected, y_train)\n",
        "\n",
        "# 📊 חיזוי על סט הבדיקה\n",
        "y_pred_baseline = sgd_model.predict(X_test_selected)\n",
        "\n",
        "# ✅ הערכת ביצועי המודל\n",
        "accuracy_baseline = accuracy_score(y_test, y_pred_baseline)\n",
        "print(f\"Baseline Test Accuracy: {accuracy_baseline:.4f}\")"
      ],
      "metadata": {
        "id": "REniKuH_lpc9",
        "outputId": "c440e67a-a02f-47ba-8917-a13775a8b9bd",
        "colab": {
          "base_uri": "https://localhost:8080/"
        }
      },
      "id": "REniKuH_lpc9",
      "execution_count": 11,
      "outputs": [
        {
          "output_type": "stream",
          "name": "stdout",
          "text": [
            "Baseline Test Accuracy: 0.2308\n"
          ]
        }
      ]
    },
    {
      "cell_type": "code",
      "source": [
        "# 🔁 קרוס-ולידציה על המודל הבסיסי\n",
        "cv = StratifiedKFold(n_splits=3, shuffle=True, random_state=42)\n",
        "cv_scores = cross_val_score(sgd_model, X_train_selected, y_train, cv=cv, scoring='accuracy')\n",
        "\n",
        "# תוצאות\n",
        "print(f\"Cross-Validation Scores: {cv_scores}\")\n",
        "print(f\"Average Accuracy: {np.mean(cv_scores):.4f}\")"
      ],
      "metadata": {
        "id": "5j1lV6ygls3Z",
        "outputId": "27000851-3018-4886-f680-dd6ad00846e2",
        "colab": {
          "base_uri": "https://localhost:8080/"
        }
      },
      "id": "5j1lV6ygls3Z",
      "execution_count": 12,
      "outputs": [
        {
          "output_type": "stream",
          "name": "stdout",
          "text": [
            "Cross-Validation Scores: [0.20208582 0.26519561 0.18328286]\n",
            "Average Accuracy: 0.2169\n"
          ]
        }
      ]
    },
    {
      "cell_type": "code",
      "source": [
        "# 📊 פונקציה למציאת הפרמטרים האופטימליים של SGDClassifier\n",
        "def find_best_sgd_combination(X_train, y_train, X_test, y_test, alphas, max_iters, tols, k_features, cv_folds=3):\n",
        "    best_score = 0\n",
        "    best_params = {}\n",
        "    results = []\n",
        "\n",
        "    # לולאה על כל הקומבינציות האפשריות\n",
        "    for alpha, max_iter, tol, k in product(alphas, max_iters, tols, k_features):\n",
        "\n",
        "        # 🧩 בחירת התכונות\n",
        "        selector = SelectKBest(score_func=chi2, k=k)\n",
        "        selector.fit(X_train, y_train)\n",
        "        X_train_selected = selector.transform(X_train)\n",
        "        X_test_selected = selector.transform(X_test)\n",
        "\n",
        "        # 📈 בניית מודל SGD עם הפרמטרים שנבדקים\n",
        "        model = SGDClassifier(\n",
        "            loss='log_loss',\n",
        "            alpha=alpha,\n",
        "            max_iter=max_iter,\n",
        "            tol=tol,\n",
        "            random_state=42,\n",
        "            class_weight='balanced'\n",
        "        )\n",
        "\n",
        "        # 🔁 קרוס-ולידציה\n",
        "        cv = StratifiedKFold(n_splits=cv_folds, shuffle=True, random_state=42)\n",
        "        cv_scores = cross_val_score(model, X_train_selected, y_train, cv=cv, scoring='f1_macro')\n",
        "\n",
        "        # אימון המודל על כל הדאטה\n",
        "        model.fit(X_train_selected, y_train)\n",
        "        y_pred = model.predict(X_test_selected)\n",
        "\n",
        "        # 📊 חישוב מדדים\n",
        "        accuracy = accuracy_score(y_test, y_pred)\n",
        "        precision = precision_score(y_test, y_pred, average='macro')\n",
        "        recall = recall_score(y_test, y_pred, average='macro')\n",
        "        f1 = f1_score(y_test, y_pred, average='macro')\n",
        "\n",
        "        # שמירת התוצאות בכל הרצה\n",
        "        results.append({\n",
        "            'alpha': alpha,\n",
        "            'max_iter': max_iter,\n",
        "            'tol': tol,\n",
        "            'features': k,\n",
        "            'cv_f1_score': np.mean(cv_scores),\n",
        "            'accuracy': accuracy,\n",
        "            'precision': precision,\n",
        "            'recall': recall,\n",
        "            'f1': f1\n",
        "        })\n",
        "\n",
        "        # בדיקה אם התוצאה הנוכחית היא הטובה ביותר\n",
        "        if f1 > best_score:\n",
        "            best_score = f1\n",
        "            best_params = {\n",
        "                'alpha': alpha,\n",
        "                'max_iter': max_iter,\n",
        "                'tol': tol,\n",
        "                'features': k,\n",
        "                'f1': f1\n",
        "            }\n",
        "\n",
        "    #הדפסת התוצאה הטובה ביותר\n",
        "    print(f\"\\n📊 Best Parameters Found:\")\n",
        "    print(f\"Alpha: {best_params['alpha']}, Max Iter: {best_params['max_iter']}, Tol: {best_params['tol']}, Features: {best_params['features']}\")\n",
        "    print(f\"Best F1-Score: {best_params['f1']:.4f}\")\n",
        "\n",
        "    #החזרת כל התוצאות והפרמטרים הטובים ביותר\n",
        "    return results, best_params"
      ],
      "metadata": {
        "id": "eI8RWMyamZ-r"
      },
      "id": "eI8RWMyamZ-r",
      "execution_count": null,
      "outputs": []
    },
    {
      "cell_type": "code",
      "source": [
        "# פרמטרים ממוקדים יותר כדי למנוע קריסות\n",
        "alphas = [0.001]\n",
        "max_iters = [100]\n",
        "tols = [1e-3]\n",
        "k_features = [10]\n",
        "\n",
        "# קריאה לפונקציה עם הפרמטרים המצומצמים\n",
        "results, best_params = find_best_sgd_combination(X_train, y_train, X_test, y_test, alphas, max_iters, tols, k_features)\n",
        "\n",
        "# הדפסת הפרמטרים הטובים ביותר שנמצאו\n",
        "print(\"Best Parameters:\", best_params)"
      ],
      "metadata": {
        "id": "X-JVpsEfm7V9",
        "outputId": "2f0b2c0a-22a8-4758-d8e3-a8f8967a78b1",
        "colab": {
          "base_uri": "https://localhost:8080/"
        }
      },
      "id": "X-JVpsEfm7V9",
      "execution_count": null,
      "outputs": [
        {
          "output_type": "stream",
          "name": "stderr",
          "text": [
            "/usr/local/lib/python3.10/dist-packages/sklearn/metrics/_classification.py:1565: UndefinedMetricWarning: Precision is ill-defined and being set to 0.0 in labels with no predicted samples. Use `zero_division` parameter to control this behavior.\n",
            "  _warn_prf(average, modifier, f\"{metric.capitalize()} is\", len(result))\n",
            "/usr/local/lib/python3.10/dist-packages/sklearn/metrics/_classification.py:1565: UndefinedMetricWarning: Precision is ill-defined and being set to 0.0 in labels with no predicted samples. Use `zero_division` parameter to control this behavior.\n",
            "  _warn_prf(average, modifier, f\"{metric.capitalize()} is\", len(result))\n",
            "/usr/local/lib/python3.10/dist-packages/sklearn/metrics/_classification.py:1565: UndefinedMetricWarning: Precision is ill-defined and being set to 0.0 in labels with no predicted samples. Use `zero_division` parameter to control this behavior.\n",
            "  _warn_prf(average, modifier, f\"{metric.capitalize()} is\", len(result))\n",
            "/usr/local/lib/python3.10/dist-packages/sklearn/metrics/_classification.py:1565: UndefinedMetricWarning: Precision is ill-defined and being set to 0.0 in labels with no predicted samples. Use `zero_division` parameter to control this behavior.\n",
            "  _warn_prf(average, modifier, f\"{metric.capitalize()} is\", len(result))\n",
            "/usr/local/lib/python3.10/dist-packages/sklearn/metrics/_classification.py:1565: UndefinedMetricWarning: Precision is ill-defined and being set to 0.0 in labels with no predicted samples. Use `zero_division` parameter to control this behavior.\n",
            "  _warn_prf(average, modifier, f\"{metric.capitalize()} is\", len(result))\n",
            "/usr/local/lib/python3.10/dist-packages/sklearn/metrics/_classification.py:1565: UndefinedMetricWarning: Precision is ill-defined and being set to 0.0 in labels with no predicted samples. Use `zero_division` parameter to control this behavior.\n",
            "  _warn_prf(average, modifier, f\"{metric.capitalize()} is\", len(result))\n",
            "/usr/local/lib/python3.10/dist-packages/sklearn/metrics/_classification.py:1565: UndefinedMetricWarning: Precision is ill-defined and being set to 0.0 in labels with no predicted samples. Use `zero_division` parameter to control this behavior.\n",
            "  _warn_prf(average, modifier, f\"{metric.capitalize()} is\", len(result))\n",
            "/usr/local/lib/python3.10/dist-packages/sklearn/metrics/_classification.py:1565: UndefinedMetricWarning: Precision is ill-defined and being set to 0.0 in labels with no predicted samples. Use `zero_division` parameter to control this behavior.\n",
            "  _warn_prf(average, modifier, f\"{metric.capitalize()} is\", len(result))\n",
            "/usr/local/lib/python3.10/dist-packages/sklearn/metrics/_classification.py:1565: UndefinedMetricWarning: Precision is ill-defined and being set to 0.0 in labels with no predicted samples. Use `zero_division` parameter to control this behavior.\n",
            "  _warn_prf(average, modifier, f\"{metric.capitalize()} is\", len(result))\n",
            "/usr/local/lib/python3.10/dist-packages/sklearn/metrics/_classification.py:1565: UndefinedMetricWarning: Precision is ill-defined and being set to 0.0 in labels with no predicted samples. Use `zero_division` parameter to control this behavior.\n",
            "  _warn_prf(average, modifier, f\"{metric.capitalize()} is\", len(result))\n",
            "/usr/local/lib/python3.10/dist-packages/sklearn/metrics/_classification.py:1565: UndefinedMetricWarning: Precision is ill-defined and being set to 0.0 in labels with no predicted samples. Use `zero_division` parameter to control this behavior.\n",
            "  _warn_prf(average, modifier, f\"{metric.capitalize()} is\", len(result))\n",
            "/usr/local/lib/python3.10/dist-packages/sklearn/metrics/_classification.py:1565: UndefinedMetricWarning: Precision is ill-defined and being set to 0.0 in labels with no predicted samples. Use `zero_division` parameter to control this behavior.\n",
            "  _warn_prf(average, modifier, f\"{metric.capitalize()} is\", len(result))\n",
            "/usr/local/lib/python3.10/dist-packages/sklearn/metrics/_classification.py:1565: UndefinedMetricWarning: Precision is ill-defined and being set to 0.0 in labels with no predicted samples. Use `zero_division` parameter to control this behavior.\n",
            "  _warn_prf(average, modifier, f\"{metric.capitalize()} is\", len(result))\n",
            "/usr/local/lib/python3.10/dist-packages/sklearn/metrics/_classification.py:1565: UndefinedMetricWarning: Precision is ill-defined and being set to 0.0 in labels with no predicted samples. Use `zero_division` parameter to control this behavior.\n",
            "  _warn_prf(average, modifier, f\"{metric.capitalize()} is\", len(result))\n",
            "/usr/local/lib/python3.10/dist-packages/sklearn/metrics/_classification.py:1565: UndefinedMetricWarning: Precision is ill-defined and being set to 0.0 in labels with no predicted samples. Use `zero_division` parameter to control this behavior.\n",
            "  _warn_prf(average, modifier, f\"{metric.capitalize()} is\", len(result))\n",
            "/usr/local/lib/python3.10/dist-packages/sklearn/metrics/_classification.py:1565: UndefinedMetricWarning: Precision is ill-defined and being set to 0.0 in labels with no predicted samples. Use `zero_division` parameter to control this behavior.\n",
            "  _warn_prf(average, modifier, f\"{metric.capitalize()} is\", len(result))\n",
            "/usr/local/lib/python3.10/dist-packages/sklearn/metrics/_classification.py:1565: UndefinedMetricWarning: Precision is ill-defined and being set to 0.0 in labels with no predicted samples. Use `zero_division` parameter to control this behavior.\n",
            "  _warn_prf(average, modifier, f\"{metric.capitalize()} is\", len(result))\n",
            "/usr/local/lib/python3.10/dist-packages/sklearn/metrics/_classification.py:1565: UndefinedMetricWarning: Precision is ill-defined and being set to 0.0 in labels with no predicted samples. Use `zero_division` parameter to control this behavior.\n",
            "  _warn_prf(average, modifier, f\"{metric.capitalize()} is\", len(result))\n",
            "/usr/local/lib/python3.10/dist-packages/sklearn/metrics/_classification.py:1565: UndefinedMetricWarning: Precision is ill-defined and being set to 0.0 in labels with no predicted samples. Use `zero_division` parameter to control this behavior.\n",
            "  _warn_prf(average, modifier, f\"{metric.capitalize()} is\", len(result))\n"
          ]
        }
      ]
    },
    {
      "cell_type": "code",
      "source": [
        "# def find_best_random_forest_combination(X_train, y_train, X_test, y_test, n_estimators_list, max_depth_list, k_features, cv_folds=3):\n",
        "#     best_score = 0\n",
        "#     best_params = {}\n",
        "#     results = []\n",
        "\n",
        "#     # לולאה על כל הקומבינציות האפשריות\n",
        "#     for n_estimators, max_depth, k in product(n_estimators_list, max_depth_list, k_features):\n",
        "\n",
        "#         # 🧩 בחירת התכונות\n",
        "#         selector = SelectKBest(score_func=chi2, k=k)\n",
        "#         selector.fit(X_train, y_train)\n",
        "#         X_train_selected = selector.transform(X_train)\n",
        "#         X_test_selected = selector.transform(X_test)\n",
        "\n",
        "#         # 📈 בניית מודל Random Forest עם הפרמטרים שנבדקים\n",
        "#         model = RandomForestClassifier(\n",
        "#             n_estimators=n_estimators,\n",
        "#             max_depth=max_depth,\n",
        "#             random_state=42,\n",
        "#             class_weight='balanced')\n",
        "\n",
        "#         # 🔁 קרוס-ולידציה\n",
        "#         cv = StratifiedKFold(n_splits=cv_folds, shuffle=True, random_state=42)\n",
        "#         cv_scores = cross_val_score(model, X_train_selected, y_train, cv=cv, scoring='f1_macro')\n",
        "\n",
        "#         # אימון המודל על כל הדאטה\n",
        "#         model.fit(X_train_selected, y_train)\n",
        "#         y_pred = model.predict(X_test_selected)\n",
        "\n",
        "#         # 📊 חישוב מדדים\n",
        "#         accuracy = accuracy_score(y_test, y_pred)\n",
        "#         precision = precision_score(y_test, y_pred, average='macro')\n",
        "#         recall = recall_score(y_test, y_pred, average='macro')\n",
        "#         f1 = f1_score(y_test, y_pred, average='macro')\n",
        "\n",
        "#         # שמירת התוצאות בכל הרצה\n",
        "#         results.append({\n",
        "#             'n_estimators': n_estimators,\n",
        "#             'max_depth': max_depth,\n",
        "#             'features': k,\n",
        "#             'cv_f1_score': np.mean(cv_scores),\n",
        "#             'accuracy': accuracy,\n",
        "#             'precision': precision,\n",
        "#             'recall': recall,\n",
        "#             'f1': f1})\n",
        "\n",
        "#         # בדיקה אם התוצאה הנוכחית היא הטובה ביותר\n",
        "#         if f1 > best_score:\n",
        "#             best_score = f1\n",
        "#             best_params = {\n",
        "#                 'n_estimators': n_estimators,\n",
        "#                 'max_depth': max_depth,\n",
        "#                 'features': k,\n",
        "#                 'f1': f1}\n",
        "\n",
        "#     # ✅ הדפסת התוצאה הטובה ביותר\n",
        "#     print(f\"\\n📊 Best Parameters Found:\")\n",
        "#     print(f\"N Estimators: {best_params['n_estimators']}, Max Depth: {best_params['max_depth']}, Features: {best_params['features']}\")\n",
        "#     print(f\"Best F1-Score: {best_params['f1']:.4f}\")\n",
        "\n",
        "#     # ✅ החזרת כל התוצאות והפרמטרים הטובים ביותר\n",
        "#     return results, best_params"
      ],
      "metadata": {
        "id": "eBFHgRUxVK2d"
      },
      "id": "eBFHgRUxVK2d",
      "execution_count": null,
      "outputs": []
    },
    {
      "cell_type": "code",
      "source": [
        "# # דוגמה לפרמטרים אפשריים לבדיקה\n",
        "# n_estimators_list = [50, 100, 200]\n",
        "# max_depth_list = [10, 15, 20]  # None משמע ללא הגבלת עומק\n",
        "# k_features = [10, 20, 30]\n",
        "\n",
        "# # קריאה לפונקציה עם כל הקומבינציות\n",
        "# results, best_params = find_best_random_forest_combination(X_train, y_train, X_test, y_test, n_estimators_list, max_depth_list, k_features)\n",
        "\n",
        "# # הדפסת הקומבינציה הטובה ביותר\n",
        "# print(\"Best Parameters:\", best_params)"
      ],
      "metadata": {
        "id": "B-__booJVzXF"
      },
      "id": "B-__booJVzXF",
      "execution_count": null,
      "outputs": []
    },
    {
      "cell_type": "markdown",
      "id": "0f652a27-ea7c-4e67-9490-157bae3ae624",
      "metadata": {
        "id": "0f652a27-ea7c-4e67-9490-157bae3ae624"
      },
      "source": [
        "*****"
      ]
    },
    {
      "cell_type": "code",
      "source": [],
      "metadata": {
        "id": "P7pZxkbthkQD"
      },
      "id": "P7pZxkbthkQD",
      "execution_count": null,
      "outputs": []
    }
  ],
  "metadata": {
    "kernelspec": {
      "display_name": "Python 3",
      "name": "python3"
    },
    "language_info": {
      "codemirror_mode": {
        "name": "ipython",
        "version": 3
      },
      "file_extension": ".py",
      "mimetype": "text/x-python",
      "name": "python",
      "nbconvert_exporter": "python",
      "pygments_lexer": "ipython3",
      "version": "3.11.5"
    },
    "colab": {
      "provenance": [],
      "include_colab_link": true
    }
  },
  "nbformat": 4,
  "nbformat_minor": 5
}